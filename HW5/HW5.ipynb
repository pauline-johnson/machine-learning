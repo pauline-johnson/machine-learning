{
  "nbformat": 4,
  "nbformat_minor": 0,
  "metadata": {
    "colab": {
      "name": "HW5.ipynb",
      "provenance": [],
      "authorship_tag": "ABX9TyNPetCVC4r11MEXvuM5I4yQ",
      "include_colab_link": true
    },
    "kernelspec": {
      "name": "python3",
      "display_name": "Python 3"
    }
  },
  "cells": [
    {
      "cell_type": "markdown",
      "metadata": {
        "id": "view-in-github",
        "colab_type": "text"
      },
      "source": [
        "<a href=\"https://colab.research.google.com/github/pauline-johnson/machine-learning/blob/master/HW5.ipynb\" target=\"_parent\"><img src=\"https://colab.research.google.com/assets/colab-badge.svg\" alt=\"Open In Colab\"/></a>"
      ]
    },
    {
      "cell_type": "markdown",
      "metadata": {
        "id": "5mXIAfvQ0PTt",
        "colab_type": "text"
      },
      "source": [
        "# Homework 5 - Concepts in Machine Learning\n",
        "\n"
      ]
    },
    {
      "cell_type": "markdown",
      "metadata": {
        "id": "bpDO482o0eov",
        "colab_type": "text"
      },
      "source": [
        "## 1. General Concepts\n",
        "\n"
      ]
    },
    {
      "cell_type": "markdown",
      "metadata": {
        "id": "4_Yhhda83StO",
        "colab_type": "text"
      },
      "source": [
        "### Artificial Intelligence, Machine Learning, and Deep Learning\n"
      ]
    },
    {
      "cell_type": "markdown",
      "metadata": {
        "id": "r21nt-FHXx_r",
        "colab_type": "text"
      },
      "source": [
        "Artificial intelligence is \"a branch of computer dealing with the simulation of intelligent behavior in computers\" (1). Machine learning is a subset of artificial intelligence. Arthur Samuel defined machine learning as a \"field of study that gives computers the ability to learn without being explicitly programmed\" (1). The process of machine learning can be described as the training of a model to make useful predictions, using a data set (4). Deep learning is a subset of machine learning and usually refers to deep artificial nerual networks (2). Neural networks, which are loosely modeled around the brain, cluster and classify unlabeled data according to commonalities in input data (3).  \n"
      ]
    },
    {
      "cell_type": "markdown",
      "metadata": {
        "id": "n-F6-_34Xzeg",
        "colab_type": "text"
      },
      "source": [
        "### Supervised, Unsupervised, and Reinforcement Learning"
      ]
    },
    {
      "cell_type": "markdown",
      "metadata": {
        "id": "P4AdBoKLX1lN",
        "colab_type": "text"
      },
      "source": [
        "Supervised learning is a type of machine learning where the model is provided labeled training data, with a correct interpretation attached (expected output) (4). Unsupervised learning detects patterns in data, using an unlabeled training data set. Reinforcement learning deals with agents in an artificial environment that attempt to maximize reward/minimize failure. "
      ]
    },
    {
      "cell_type": "markdown",
      "metadata": {
        "id": "5r6LakqS9W8l",
        "colab_type": "text"
      },
      "source": [
        "## 2. Basic Concepts\n"
      ]
    },
    {
      "cell_type": "markdown",
      "metadata": {
        "id": "V4ZLlihWTWY5",
        "colab_type": "text"
      },
      "source": [
        "Linear models use one weight per feature to make predictions. Linear and logistic regression are types of linear models used in machine learning (5).  "
      ]
    },
    {
      "cell_type": "markdown",
      "metadata": {
        "id": "oad-nZEJTWin",
        "colab_type": "text"
      },
      "source": [
        "### Linear Regression\n"
      ]
    },
    {
      "cell_type": "markdown",
      "metadata": {
        "id": "nZL6A7Zs9dYP",
        "colab_type": "text"
      },
      "source": [
        "\n",
        "\n",
        "\n",
        "\n",
        "Linear regression attempts to model the relationship between two variables by fitting a linear curve to the observed data. By convention is it written as (6):\n",
        "\n",
        "####$ y' = b + w_1x_1 $\n",
        "\n",
        "where\n",
        "\n",
        "*   $ y'$ is the predicted label, or desired output\n",
        "*   $b$ is the bias\n",
        "*   $w_1$ is the weight of feature 1\n",
        "*   $x_1$ is a feature, or known input\n",
        "\n",
        "You may add on more features with separate weights ($..+ w_2x_2 + ..$)  for more complex models. The trained model predicts the label ($y'$) with given input values ($x_1, x_2, ..$).  \n",
        "\n",
        "\n",
        "\n",
        "\n",
        "\n"
      ]
    },
    {
      "cell_type": "markdown",
      "metadata": {
        "id": "31i04nMoY1d5",
        "colab_type": "text"
      },
      "source": [
        "### Logisitic regression\n",
        "\n"
      ]
    },
    {
      "cell_type": "markdown",
      "metadata": {
        "id": "2XfJ7QmGTh1p",
        "colab_type": "text"
      },
      "source": [
        "\n",
        "Logistic regression chooses a value between 0 and 1, using a sigmoid function, from a linear model's label (7). It can be written as follows (8):\n",
        "\n",
        "####$ y' = \\frac{1}{1+e^{-z} }$\n",
        "\n",
        "where\n",
        "\n",
        "*   $y'$ is the output for that data point\n",
        "*   $z$ is the linear model's label, or $ z = b + w_1x_1+..+w_nx_n$\n"
      ]
    },
    {
      "cell_type": "markdown",
      "metadata": {
        "id": "NB59zd99aczD",
        "colab_type": "text"
      },
      "source": [
        "#### Sigmoid Function:"
      ]
    },
    {
      "cell_type": "code",
      "metadata": {
        "id": "oG4INvmmYbSg",
        "colab_type": "code",
        "colab": {
          "base_uri": "https://localhost:8080/",
          "height": 278
        },
        "outputId": "49fc736a-2bd3-447a-daec-6922aee8d7d4"
      },
      "source": [
        "import numpy as np\n",
        "import matplotlib.pyplot as plt\n",
        "\n",
        "def sigmoid(z):\n",
        "    return 1/(1+np.exp(-z))\n",
        "\n",
        "z = np.linspace(-10,10,100)\n",
        "plt.plot(z, sigmoid(z))\n",
        "plt.xlabel('z')\n",
        "plt.ylabel('y\\'')\n",
        "plt.show()"
      ],
      "execution_count": 14,
      "outputs": [
        {
          "output_type": "display_data",
          "data": {
            "image/png": "[encoded data removed]",
            "text/plain": [
              "<Figure size 432x288 with 1 Axes>"
            ]
          },
          "metadata": {
            "tags": [],
            "needs_background": "light"
          }
        }
      ]
    },
    {
      "cell_type": "markdown",
      "metadata": {
        "id": "hfL1pBhAaLyI",
        "colab_type": "text"
      },
      "source": [
        "In homework 3, we learned how to implement logistic regression from scratch and using a Keras model. "
      ]
    },
    {
      "cell_type": "markdown",
      "metadata": {
        "id": "qA1nw0spdbg7",
        "colab_type": "text"
      },
      "source": [
        "### Gradient function\n"
      ]
    },
    {
      "cell_type": "markdown",
      "metadata": {
        "id": "OTd3akU8TOzU",
        "colab_type": "text"
      },
      "source": [
        "The gradient function is the slope of the tangent line at a point on a function, or in other words, how quickly the function is increasing or decreasing at a certain point. It can be represented by:\n",
        "\n",
        "$\\triangledown f(p) = [ \\frac{\\delta f}{\\delta x_1}(p)...\\frac{\\delta f}{\\delta x_n}(p)]$"
      ]
    },
    {
      "cell_type": "markdown",
      "metadata": {
        "id": "MH1QFseZbg4G",
        "colab_type": "text"
      },
      "source": [
        "### Gradient Descent\n"
      ]
    },
    {
      "cell_type": "markdown",
      "metadata": {
        "id": "qU1ag7eaTS-C",
        "colab_type": "text"
      },
      "source": [
        "Gradient descent is a method of training your model to minimize loss. It provides a direction to go in so that each new set of hyperparameters takes on a lower loss than the last. You choose a random value for $x_1$, which corresponds to some amount of loss. Then, you keep taking gradient steps where the gradient is decreasing (since a negative gradient points in the direction of the greatest decrease of a function). This brings you closer and closer to the minimum loss. "
      ]
    },
    {
      "cell_type": "markdown",
      "metadata": {
        "id": "BHX-0UW5TBDg",
        "colab_type": "text"
      },
      "source": [
        "### Mini-batch Stochastic Gradient Descent"
      ]
    },
    {
      "cell_type": "markdown",
      "metadata": {
        "id": "v85w6XLZTScu",
        "colab_type": "text"
      },
      "source": [
        "An important type of gradient descent we learned was mini-batch stochastic gradient descent. A batch is the total number of examples used to calculate the gradient every iteration. Stochastic gradient descent uses a batch size of 1 per iteration. Mini-batch SGD uses a batch size between 10 and 1,000 examples per iteration, which are chose randomly. This is more efficient than taking the entire batch at once, but less \"noisily\" than SGD (19)."
      ]
    },
    {
      "cell_type": "markdown",
      "metadata": {
        "id": "qtb3kDzrYNGj",
        "colab_type": "text"
      },
      "source": [
        "### Learning Rate"
      ]
    },
    {
      "cell_type": "markdown",
      "metadata": {
        "id": "KAOn0A11YQE_",
        "colab_type": "text"
      },
      "source": [
        "The learning rate is used to train a model with gradient descent. For each gradient step, the gradient and the learning rate are multiplied together to bring you closer to the minimum loss. Choosing a good learning rate for your model is important, otherwise you could get stuck in a local minumum (vs. the absolute minimum), or your model could be very inefficient. A learning rate that is too small will take a very long time and one that is too large will continously overshoot the minimum (21)."
      ]
    },
    {
      "cell_type": "markdown",
      "metadata": {
        "id": "sPPEIaW3Qxqj",
        "colab_type": "text"
      },
      "source": [
        "## 3. Building a model"
      ]
    },
    {
      "cell_type": "markdown",
      "metadata": {
        "id": "jQrhflRWpmat",
        "colab_type": "text"
      },
      "source": [
        "### Building a simple Keras model"
      ]
    },
    {
      "cell_type": "markdown",
      "metadata": {
        "id": "q0yYM1KLic2P",
        "colab_type": "text"
      },
      "source": [
        "This semester we focused on building Keras models.\n",
        "Below is an excerpt of my homework 3 code (9). The Sequential model is a linear stack of layers. A layer is a data-processing module that takes in input of at least one tensor and outputs at least one tensor (13). They are the building blocks of of a neural network. Most relatively simple models use the sequential model. The input data in homework 3 had two features, so we will add a Dense layer that accepts two-dimensional input with two rows and output with one row, for the label.\n",
        "\n"
      ]
    },
    {
      "cell_type": "code",
      "metadata": {
        "id": "XNEFtvE8l4mc",
        "colab_type": "code",
        "colab": {
          "base_uri": "https://localhost:8080/",
          "height": 194
        },
        "outputId": "d2b8da91-1e42-4db4-b267-92b5e82d117b"
      },
      "source": [
        "from tensorflow.python.keras.models import Sequential\n",
        "from tensorflow.python.keras.layers import Dense\n",
        "\n",
        "model = Sequential()\n",
        "model.add(Dense(1, input_shape=(2,)))\n",
        "\n",
        "model.summary()"
      ],
      "execution_count": 16,
      "outputs": [
        {
          "output_type": "stream",
          "text": [
            "Model: \"sequential_1\"\n",
            "_________________________________________________________________\n",
            "Layer (type)                 Output Shape              Param #   \n",
            "=================================================================\n",
            "dense_1 (Dense)              (None, 1)                 3         \n",
            "=================================================================\n",
            "Total params: 3\n",
            "Trainable params: 3\n",
            "Non-trainable params: 0\n",
            "_________________________________________________________________\n"
          ],
          "name": "stdout"
        }
      ]
    },
    {
      "cell_type": "markdown",
      "metadata": {
        "id": "EM270HBjpZHl",
        "colab_type": "text"
      },
      "source": [
        "### Convolutional Neural Networks\n",
        "\n",
        "A convolutional nerual network, or CNN, is a neural network where at least one of its layers is a convolutional layer (10).  They are often for image recognition, as discussed in lecture for the classication of MNIST digits. Below is an excerpt of the code that we used in lecture (11). In general, a CNN is made up of a combination of convolutional layers, pooling layers, and dense layers (20). In this case, the convolutional layer is the first layer in which we use the pixels in the images to extract features. The input shape is 28x28 since that is the size of the image. The second dense layer has 10 neurons, each of which is a digit class (0,1,..9) (12). \n"
      ]
    },
    {
      "cell_type": "code",
      "metadata": {
        "id": "jL4oRuQMrexr",
        "colab_type": "code",
        "colab": {
          "base_uri": "https://localhost:8080/",
          "height": 230
        },
        "outputId": "61e97261-28ee-44f2-848c-e7a7cb513a7f"
      },
      "source": [
        "import tensorflow as tf\n",
        "\n",
        "# define sequential model\n",
        "network = tf.keras.models.Sequential()\n",
        "\n",
        "# add two layers to model\n",
        "network.add(tf.keras.layers.Dense(512, activation='relu', input_shape=(28 * 28,)))\n",
        "network.add(tf.keras.layers.Dense(10, activation='softmax'))\n",
        "\n",
        "network.summary()"
      ],
      "execution_count": 18,
      "outputs": [
        {
          "output_type": "stream",
          "text": [
            "Model: \"sequential_2\"\n",
            "_________________________________________________________________\n",
            "Layer (type)                 Output Shape              Param #   \n",
            "=================================================================\n",
            "dense_2 (Dense)              (None, 512)               401920    \n",
            "_________________________________________________________________\n",
            "dense_3 (Dense)              (None, 10)                5130      \n",
            "=================================================================\n",
            "Total params: 407,050\n",
            "Trainable params: 407,050\n",
            "Non-trainable params: 0\n",
            "_________________________________________________________________\n"
          ],
          "name": "stdout"
        }
      ]
    },
    {
      "cell_type": "markdown",
      "metadata": {
        "id": "blzUiYAQQ00r",
        "colab_type": "text"
      },
      "source": [
        "## 4. Compiling a model"
      ]
    },
    {
      "cell_type": "markdown",
      "metadata": {
        "id": "durDfRkQtqq3",
        "colab_type": "text"
      },
      "source": [
        "Once you have defined the architecture of your neural network, you need to configure the learning process and compile your model. Keras requires two parameters to do this, a loss function and an optimizer."
      ]
    },
    {
      "cell_type": "markdown",
      "metadata": {
        "id": "A5ImrIIIxT2G",
        "colab_type": "text"
      },
      "source": [
        "### Loss Functions"
      ]
    },
    {
      "cell_type": "markdown",
      "metadata": {
        "id": "yr8FEXJpxbRR",
        "colab_type": "text"
      },
      "source": [
        "A loss function is the quantity that will be minimize during the training of a model (13). Loss functions evaluate how well the model models your dataset. Some common loss functions are binary cross-entropy (for classification models that output a value between 0 and 1) and mean-squared error. A complete list of loss functions can be found at https://keras.io/losses/.\n",
        "\n",
        "Below is a table of popular loss functions from (14). \n",
        "\n",
        "| Problem type              | Last layer activation  | Loss function              | \n",
        "|:-:                        |:-:                     |:-:                         |\n",
        "| Binary classification     | sigmoid                | binary_crossentropy        |\n",
        "| Multiclass, single-label  | softmax                | categorical_crossentropy   |\n",
        "| Mutlticlass, multi-label  | sigmoid                | binary_crossentropy        |\n",
        "| Regression to real values | none                   | mse                        |\n",
        "| Regression to \\[0,1\\]     | sigmoid                | mse or binary_crossentropy |"
      ]
    },
    {
      "cell_type": "markdown",
      "metadata": {
        "id": "ncsb42S1yEjZ",
        "colab_type": "text"
      },
      "source": [
        "### Optimizers"
      ]
    },
    {
      "cell_type": "markdown",
      "metadata": {
        "id": "n1TfImUVyJya",
        "colab_type": "text"
      },
      "source": [
        "Optimizers tie together loss function and model parameters by updating the model in response to loss function's output. A complete list of optimizers can be found at https://keras.io/optimizers/."
      ]
    },
    {
      "cell_type": "markdown",
      "metadata": {
        "id": "FDzUS8aM7f5u",
        "colab_type": "text"
      },
      "source": [
        "### Metric Functions"
      ]
    },
    {
      "cell_type": "markdown",
      "metadata": {
        "id": "optitexB7mMb",
        "colab_type": "text"
      },
      "source": [
        "An optional parameter is a metric function, which is used to judge the performance of the model (14). A complete list of metrics can be found at https://keras.io/metrics/.\n",
        "\n",
        "Below is an example of compiling a model, taken from my homework 3 (9). "
      ]
    },
    {
      "cell_type": "code",
      "metadata": {
        "id": "tq9KcwSnxWBV",
        "colab_type": "code",
        "colab": {}
      },
      "source": [
        "model.compile(loss='binary_crossentropy', optimizer='sgd',\n",
        "              metrics=['accuracy'])\n"
      ],
      "execution_count": 0,
      "outputs": []
    },
    {
      "cell_type": "markdown",
      "metadata": {
        "id": "chDw1fgVQ7eB",
        "colab_type": "text"
      },
      "source": [
        "## 5. Training a model\n"
      ]
    },
    {
      "cell_type": "markdown",
      "metadata": {
        "id": "ucb9Th5k-t3n",
        "colab_type": "text"
      },
      "source": [
        "Training a model involves learning it with training data and testing it with test data. To do this, you want to split up your data into training and test sets. It is important that your training and test data are completely separate. If your test data leaks into your training data, you will not have a true understanding of how well your model works. When training a model, you must also specify the number of epochs (iterations) and the batch size. "
      ]
    },
    {
      "cell_type": "markdown",
      "metadata": {
        "id": "NA5OQUhzj5F9",
        "colab_type": "text"
      },
      "source": [
        "### Overfitting\n",
        "\n",
        "Intuitively, you might think that the lower the loss during training, the better a model is, but this is not always the case. A model that *overfits* achieves low loss during training, but performs poorly when measured with the test data.  This happens when a model is more complex than it needs to be. To remedy this, you might want to choose a less complex model. From (15), \"The less complex an ML model, the more likely that a good empirical result is not just due to the peculiarities of the sample\". \n",
        "\n"
      ]
    },
    {
      "cell_type": "markdown",
      "metadata": {
        "id": "Qab92LlABBBm",
        "colab_type": "text"
      },
      "source": [
        "#### Underfitting\n",
        "\n",
        "Underfitting happens when a model performs poorly on training data. To avoid this, you might want to provide a wider variety of data or make your model more complex.\n"
      ]
    },
    {
      "cell_type": "markdown",
      "metadata": {
        "id": "aV88LcEjB1or",
        "colab_type": "text"
      },
      "source": [
        "We can train a model like so:\n",
        "```\n",
        "model.fit(training_data, training_labels, epochs=200, batch_size=500,verbose=1)\n",
        "```"
      ]
    },
    {
      "cell_type": "markdown",
      "metadata": {
        "id": "z2ed50aoQ_Vl",
        "colab_type": "text"
      },
      "source": [
        "## 6. Fine-tuning a pretrained model\n",
        "\n",
        "Fine-tuning is when you take a model that has been pre-trained on a large dataset and continue training it on your own smaller dataset. This is very useful when the data that you are trying to apply the pre-trained model to is similar to the training data of that model. \n",
        "In homework 4, I froze the convolutional base and then added layers on top to fine-tune (17). "
      ]
    },
    {
      "cell_type": "code",
      "metadata": {
        "id": "mhpaAnZ3Pa5K",
        "colab_type": "code",
        "colab": {}
      },
      "source": [
        "from keras.applications import Xception\n",
        "from keras import layers\n",
        "from keras import models\n",
        "from keras import optimizers\n",
        "\n",
        "\n",
        "conv_base = Xception(\n",
        "    weights='imagenet', \n",
        "    include_top=False, \n",
        "    input_shape=(150, 150, 3))\n",
        "\n",
        "# Freeze convolutional base.\n",
        "conv_base.trainable = False\n",
        "\n",
        "# Add layers on top to fine-tune.\n",
        "model = models.Sequential()\n",
        "model.add(conv_base)\n",
        "model.add(layers.Flatten())\n",
        "model.add(layers.Dense(256, activation='relu'))\n",
        "#model.add(layers.Dropout(0.1))\n",
        "model.add(layers.Dense(1, activation='sigmoid'))\n"
      ],
      "execution_count": 0,
      "outputs": []
    },
    {
      "cell_type": "markdown",
      "metadata": {
        "id": "4N7cYB8tP-dF",
        "colab_type": "text"
      },
      "source": [
        "After doing this, we can further improve our model by fine-tuning the upper layers of the pre-trained model (16). We want to use a smaller learning rate since the pre-trained weights are already very accurate and we do not want to distort the model's reliability (18)."
      ]
    },
    {
      "cell_type": "code",
      "metadata": {
        "id": "PQf0j_pYQ04C",
        "colab_type": "code",
        "colab": {
          "base_uri": "https://localhost:8080/",
          "height": 301
        },
        "outputId": "489ce490-2ef7-48d0-e93a-9ae9f5e50a81"
      },
      "source": [
        "conv_base.trainable = True\n",
        "\n",
        "set_trainable = False\n",
        "for layer in conv_base.layers:\n",
        "  if layer.name == 'conv2d_3':\n",
        "    set_trainable = True\n",
        "  if set_trainable:\n",
        "    layer.trainable = True\n",
        "  else:\n",
        "    layer.trainable = False\n",
        "\n",
        "model.compile(\n",
        "    loss='binary_crossentropy',\n",
        "    # choose a smaller learning rate\n",
        "    optimizer=optimizers.RMSprop(lr=1e-5), \n",
        "    metrics=['acc'])\n",
        "\n",
        "model.summary()"
      ],
      "execution_count": 26,
      "outputs": [
        {
          "output_type": "stream",
          "text": [
            "Model: \"sequential_2\"\n",
            "_________________________________________________________________\n",
            "Layer (type)                 Output Shape              Param #   \n",
            "=================================================================\n",
            "xception (Model)             (None, 5, 5, 2048)        20861480  \n",
            "_________________________________________________________________\n",
            "flatten_2 (Flatten)          (None, 51200)             0         \n",
            "_________________________________________________________________\n",
            "dense_3 (Dense)              (None, 256)               13107456  \n",
            "_________________________________________________________________\n",
            "dense_4 (Dense)              (None, 1)                 257       \n",
            "=================================================================\n",
            "Total params: 33,969,193\n",
            "Trainable params: 13,107,713\n",
            "Non-trainable params: 20,861,480\n",
            "_________________________________________________________________\n"
          ],
          "name": "stdout"
        }
      ]
    },
    {
      "cell_type": "markdown",
      "metadata": {
        "id": "WqWr9btvXNAM",
        "colab_type": "text"
      },
      "source": [
        "# Conclusion"
      ]
    },
    {
      "cell_type": "markdown",
      "metadata": {
        "id": "cAsozp22XSxr",
        "colab_type": "text"
      },
      "source": [
        "As you can see, I learned a lot in this course! I found Google's crash course in machine learning to be very useful throughout the learning process."
      ]
    },
    {
      "cell_type": "markdown",
      "metadata": {
        "id": "PHhpLqF51rP5",
        "colab_type": "text"
      },
      "source": [
        "## Sources\n",
        "\n",
        "\n"
      ]
    },
    {
      "cell_type": "markdown",
      "metadata": {
        "id": "MDnfW7TQumX3",
        "colab_type": "text"
      },
      "source": [
        "1. https://github.com/schneider128k/machine_learning_course/blob/master/slides/1_a_slides.pdf\n",
        "\n",
        "2. https://pathmind.com/wiki/ai-vs-machine-learning-vs-deep-learning\n",
        "\n",
        "3. https://pathmind.com/wiki/neural-network\n",
        "\n",
        "4. https://github.com/schneider128k/machine_learning_course/blob/master/slides/1_b_slides.pdf\n",
        "\n",
        "5. https://developers.google.com/machine-learning/glossary#linear_regression\n",
        "\n",
        "6. https://developers.google.com/machine-learning/crash-course/descending-into-ml/linear-regression\n",
        "\n",
        "7. https://developers.google.com/machine-learning/glossary#logistic_regression\n",
        "\n",
        "8. https://developers.google.com/machine-learning/crash-course/logistic-regression/calculating-a-probability\n",
        "\n",
        "9. https://github.com/pauline-johnson/machine-learning/blob/master/HW3/HW3.ipynb\n",
        "\n",
        "10. https://developers.google.com/machine-learning/glossary/#convolutional_layer\n",
        "\n",
        "11. https://github.com/schneider128k/machine_learning_course/blob/master/mnist_digits_classification_dense_layers.ipynb\n",
        "\n",
        "12. https://towardsdatascience.com/image-classification-in-10-minutes-with-mnist-dataset-54c35b77a38d\n",
        "\n",
        "13. https://github.com/schneider128k/machine_learning_course/blob/master/slides/4_slides.pdf\n",
        "\n",
        "14. https://github.com/schneider128k/machine_learning_course/blob/master/keras_basics.md\n",
        "\n",
        "15. https://developers.google.com/machine-learning/crash-course/generalization/peril-of-overfitting\n",
        "\n",
        "16. https://colab.research.google.com/drive/1uVLIUWdT7--b59vM7NaSHkB-qFcu30jU#scrollTo=dI5rmt4UBwXs\n",
        "\n",
        "17. https://github.com/pauline-johnson/machine-learning/blob/master/HW4/HW4_3a.ipynb\n",
        "\n",
        "18. https://flyyufelix.github.io/2016/10/03/fine-tuning-in-keras-part1.html\n",
        "\n",
        "19. https://github.com/schneider128k/machine_learning_course/blob/master/slides/2_f_slides.pdf\n",
        "\n",
        "20. https://developers.google.com/machine-learning/glossary#convolutional_neural_network\n",
        "\n",
        "21. https://github.com/schneider128k/machine_learning_course/blob/master/slides/2_e_slides.pdf"
      ]
    }
  ]
}
