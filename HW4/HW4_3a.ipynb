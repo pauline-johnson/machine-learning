{
  "nbformat": 4,
  "nbformat_minor": 0,
  "metadata": {
    "colab": {
      "name": "HW4-3a.ipynb",
      "provenance": [],
      "authorship_tag": "ABX9TyM2DcnatmCeYLPIep0scICQ",
      "include_colab_link": true
    },
    "kernelspec": {
      "name": "python3",
      "display_name": "Python 3"
    }
  },
  "cells": [
    {
      "cell_type": "markdown",
      "metadata": {
        "id": "view-in-github",
        "colab_type": "text"
      },
      "source": [
        "<a href=\"https://colab.research.google.com/github/pauline-johnson/machine-learning/blob/master/HW4_3a.ipynb\" target=\"_parent\"><img src=\"https://colab.research.google.com/assets/colab-badge.svg\" alt=\"Open In Colab\"/></a>"
      ]
    },
    {
      "cell_type": "markdown",
      "metadata": {
        "id": "9mAl_nfD8gG6",
        "colab_type": "text"
      },
      "source": [
        "# Homework 4-3a\n",
        "This is my adaption of the notebook located at https://colab.research.google.com/drive/1F-RWvoxH8MmT7c1UmNy41iuOp-ejiLoF#scrollTo=KSrgMJ5vKFzQ&forceEdit=true&sandboxMode=true.\n",
        "\n",
        "I used the Xception architecture instead of the VGG16 network. \n",
        "\n",
        "\n"
      ]
    },
    {
      "cell_type": "markdown",
      "metadata": {
        "id": "KSrgMJ5vKFzQ",
        "colab_type": "text"
      },
      "source": [
        "# Fine-tuning VGG16 "
      ]
    },
    {
      "cell_type": "markdown",
      "metadata": {
        "id": "TIW7bZaAK-Hf",
        "colab_type": "text"
      },
      "source": [
        "This is based on section 5.3 *Using a pretrained convnet* of the book *Deep learning with Python* by Francois Chollet. I have made several changes to the code. I use the data that is already provided by Google. I don't download the data from Kaggle as in the deep learning book."
      ]
    },
    {
      "cell_type": "markdown",
      "metadata": {
        "id": "nsBq__dVo2pj",
        "colab_type": "text"
      },
      "source": [
        "## Feature extraction"
      ]
    },
    {
      "cell_type": "markdown",
      "metadata": {
        "id": "0g6ETAM9o54M",
        "colab_type": "text"
      },
      "source": [
        "Feature extraction consists of using the representations learned by a previous network to extract interesting features from new samples. These features are then run through a new classifier, which is trained from scratch.\n",
        "\n",
        "We will use here the convolutional base of the VGG16 model to extract the features. We will feed these features to a densely connected classifier with dropout. We will fine-tune some layers."
      ]
    },
    {
      "cell_type": "markdown",
      "metadata": {
        "id": "BqIG8QHMLNOn",
        "colab_type": "text"
      },
      "source": [
        "## Download the data"
      ]
    },
    {
      "cell_type": "markdown",
      "metadata": {
        "id": "t3I1jd7cKV6_",
        "colab_type": "text"
      },
      "source": [
        "Download the example data, a zip. of 2,000 JPG pictures of cats and dogs and extract it locally in ```/tmp```.\n",
        "\n"
      ]
    },
    {
      "cell_type": "code",
      "metadata": {
        "id": "JWjprHEXJ5Qi",
        "colab_type": "code",
        "outputId": "7d46db18-5a4b-4965-8185-626db6af9d95",
        "colab": {
          "base_uri": "https://localhost:8080/",
          "height": 202
        }
      },
      "source": [
        "!wget --no-check-certificate \\\n",
        "    https://storage.googleapis.com/mledu-datasets/cats_and_dogs_filtered.zip \\\n",
        "    -O /tmp/cats_and_dogs_filtered.zip"
      ],
      "execution_count": 0,
      "outputs": [
        {
          "output_type": "stream",
          "text": [
            "--2019-03-27 21:34:06--  https://storage.googleapis.com/mledu-datasets/cats_and_dogs_filtered.zip\n",
            "Resolving storage.googleapis.com (storage.googleapis.com)... 173.194.193.128, 2607:f8b0:4001:c00::80\n",
            "Connecting to storage.googleapis.com (storage.googleapis.com)|173.194.193.128|:443... connected.\n",
            "HTTP request sent, awaiting response... 200 OK\n",
            "Length: 68606236 (65M) [application/zip]\n",
            "Saving to: ‘/tmp/cats_and_dogs_filtered.zip’\n",
            "\n",
            "/tmp/cats_and_dogs_ 100%[===================>]  65.43M   104MB/s    in 0.6s    \n",
            "\n",
            "2019-03-27 21:34:07 (104 MB/s) - ‘/tmp/cats_and_dogs_filtered.zip’ saved [68606236/68606236]\n",
            "\n"
          ],
          "name": "stdout"
        }
      ]
    },
    {
      "cell_type": "code",
      "metadata": {
        "id": "WvoHtdA-K6Rw",
        "colab_type": "code",
        "colab": {}
      },
      "source": [
        "import os\n",
        "import zipfile\n",
        "\n",
        "local_zip = '/tmp/cats_and_dogs_filtered.zip'\n",
        "zip_ref = zipfile.ZipFile(local_zip, 'r')\n",
        "zip_ref.extractall('/tmp')\n",
        "zip_ref.close()"
      ],
      "execution_count": 0,
      "outputs": []
    },
    {
      "cell_type": "markdown",
      "metadata": {
        "id": "shZiOBnJMyy_",
        "colab_type": "text"
      },
      "source": [
        "Note that the data provided by Google does not have a test set."
      ]
    },
    {
      "cell_type": "code",
      "metadata": {
        "id": "dL8ikM89LlsH",
        "colab_type": "code",
        "colab": {}
      },
      "source": [
        "base_dir = '/tmp/cats_and_dogs_filtered'\n",
        "train_dir = os.path.join(base_dir, 'train')\n",
        "validation_dir = os.path.join(base_dir, 'validation')\n",
        "\n",
        "# Directory with our training cat pictures\n",
        "train_cats_dir = os.path.join(train_dir, 'cats')\n",
        "\n",
        "# Directory with our training dog pictures\n",
        "train_dogs_dir = os.path.join(train_dir, 'dogs')\n",
        "\n",
        "# Directory with our validation cat pictures\n",
        "validation_cats_dir = os.path.join(validation_dir, 'cats')\n",
        "\n",
        "# Directory with our validation dog pictures\n",
        "validation_dogs_dir = os.path.join(validation_dir, 'dogs')"
      ],
      "execution_count": 0,
      "outputs": []
    },
    {
      "cell_type": "markdown",
      "metadata": {
        "id": "inyP8bcdXnn-",
        "colab_type": "text"
      },
      "source": [
        "## Build network with VGG16 convolution base and custom densely connected layers"
      ]
    },
    {
      "cell_type": "markdown",
      "metadata": {
        "id": "kQ48W5T9rHWu",
        "colab_type": "text"
      },
      "source": [
        "### Load the convolutional base"
      ]
    },
    {
      "cell_type": "code",
      "metadata": {
        "id": "Y0FgtANCXm_H",
        "colab_type": "code",
        "outputId": "2c66006d-5e15-461b-b086-63249618b76f",
        "colab": {
          "base_uri": "https://localhost:8080/",
          "height": 72
        }
      },
      "source": [
        "from keras.applications import Xception\n",
        "\n",
        "conv_base = Xception(\n",
        "    weights='imagenet', \n",
        "    include_top=False, \n",
        "    input_shape=(150, 150, 3))"
      ],
      "execution_count": 12,
      "outputs": [
        {
          "output_type": "stream",
          "text": [
            "Downloading data from https://github.com/fchollet/deep-learning-models/releases/download/v0.4/xception_weights_tf_dim_ordering_tf_kernels_notop.h5\n",
            "83689472/83683744 [==============================] - 1s 0us/step\n"
          ],
          "name": "stdout"
        }
      ]
    },
    {
      "cell_type": "markdown",
      "metadata": {
        "id": "D6OBHOO9q1ou",
        "colab_type": "text"
      },
      "source": [
        "### Freeze the convolutional base"
      ]
    },
    {
      "cell_type": "code",
      "metadata": {
        "id": "UleRo4Dpq6Ld",
        "colab_type": "code",
        "colab": {}
      },
      "source": [
        "conv_base.trainable = False"
      ],
      "execution_count": 0,
      "outputs": []
    },
    {
      "cell_type": "markdown",
      "metadata": {
        "id": "Qfx6PqhPrb7Q",
        "colab_type": "text"
      },
      "source": [
        "### Concatenate the convolutional base and densely connected layers"
      ]
    },
    {
      "cell_type": "code",
      "metadata": {
        "id": "qUpmocDAO3xm",
        "colab_type": "code",
        "colab": {}
      },
      "source": [
        "from keras import layers\n",
        "from keras import models\n",
        "from keras import optimizers\n",
        "\n",
        "model = models.Sequential()\n",
        "model.add(conv_base)\n",
        "model.add(layers.Flatten())\n",
        "model.add(layers.Dense(256, activation='relu'))\n",
        "#model.add(layers.Dropout(0.1))\n",
        "model.add(layers.Dense(1, activation='sigmoid'))"
      ],
      "execution_count": 0,
      "outputs": []
    },
    {
      "cell_type": "code",
      "metadata": {
        "id": "Fh6gZSeAjF7c",
        "colab_type": "code",
        "outputId": "b114afb3-c344-4d34-c8ad-7761c5d4d3a4",
        "colab": {
          "base_uri": "https://localhost:8080/",
          "height": 301
        }
      },
      "source": [
        "model.summary()"
      ],
      "execution_count": 15,
      "outputs": [
        {
          "output_type": "stream",
          "text": [
            "Model: \"sequential_2\"\n",
            "_________________________________________________________________\n",
            "Layer (type)                 Output Shape              Param #   \n",
            "=================================================================\n",
            "xception (Model)             (None, 5, 5, 2048)        20861480  \n",
            "_________________________________________________________________\n",
            "flatten_2 (Flatten)          (None, 51200)             0         \n",
            "_________________________________________________________________\n",
            "dense_3 (Dense)              (None, 256)               13107456  \n",
            "_________________________________________________________________\n",
            "dense_4 (Dense)              (None, 1)                 257       \n",
            "=================================================================\n",
            "Total params: 33,969,193\n",
            "Trainable params: 13,107,713\n",
            "Non-trainable params: 20,861,480\n",
            "_________________________________________________________________\n"
          ],
          "name": "stdout"
        }
      ]
    },
    {
      "cell_type": "markdown",
      "metadata": {
        "id": "eZjBiddhi5Qj",
        "colab_type": "text"
      },
      "source": [
        "## Train the model end to end with frozen convolutional base"
      ]
    },
    {
      "cell_type": "code",
      "metadata": {
        "id": "tfAQlC2Oi41L",
        "colab_type": "code",
        "outputId": "1e15da3e-e31c-4bae-fcf0-25f64c708a2e",
        "colab": {
          "base_uri": "https://localhost:8080/",
          "height": 250
        }
      },
      "source": [
        "from keras.preprocessing.image import ImageDataGenerator\n",
        "from keras import optimizers\n",
        "\n",
        "# data augmentation\n",
        "\n",
        "train_datagen = ImageDataGenerator(\n",
        "    rescale=1./255, \n",
        "    rotation_range=40,\n",
        "    width_shift_range=0.2,\n",
        "    height_shift_range=0.2,\n",
        "    shear_range=0.2,\n",
        "    zoom_range=0.2,\n",
        "    horizontal_flip=True,\n",
        "    fill_mode='nearest'\n",
        ")\n",
        "\n",
        "train_generator = train_datagen.flow_from_directory(\n",
        "    train_dir,\n",
        "    target_size=(150, 150),\n",
        "    batch_size=20,\n",
        "    class_mode='binary')\n",
        "\n",
        "validation_datagen = ImageDataGenerator(rescale=1./255)\n",
        "\n",
        "validation_generator = validation_datagen.flow_from_directory(\n",
        "    validation_dir,\n",
        "    target_size=(150, 150),\n",
        "    batch_size=20,\n",
        "    class_mode='binary')\n",
        "\n",
        "# compile model\n",
        "\n",
        "model.compile(\n",
        "    loss='binary_crossentropy', \n",
        "    optimizer=optimizers.RMSprop(lr=2e-5), \n",
        "    metrics=['acc'])\n",
        "\n",
        "# train\n",
        "\n",
        "history = model.fit_generator(\n",
        "    train_generator,\n",
        "    steps_per_epoch=100,\n",
        "    epochs=30,\n",
        "    validation_data=validation_generator,\n",
        "    validation_steps=50\n",
        ")"
      ],
      "execution_count": 0,
      "outputs": [
        {
          "output_type": "stream",
          "text": [
            "Found 2000 images belonging to 2 classes.\n",
            "Found 1000 images belonging to 2 classes.\n",
            "Epoch 1/30\n",
            "100/100 [==============================] - 345s 3s/step - loss: 0.4417 - acc: 0.7680 - val_loss: 0.0939 - val_acc: 0.9360\n",
            "Epoch 2/30\n",
            "100/100 [==============================] - 341s 3s/step - loss: 0.3683 - acc: 0.8260 - val_loss: 0.0180 - val_acc: 0.9580\n",
            "Epoch 3/30\n",
            "100/100 [==============================] - 337s 3s/step - loss: 0.3343 - acc: 0.8390 - val_loss: 5.5853e-05 - val_acc: 0.9540\n",
            "Epoch 4/30\n",
            "100/100 [==============================] - 340s 3s/step - loss: 0.3498 - acc: 0.8440 - val_loss: 0.0026 - val_acc: 0.9690\n",
            "Epoch 5/30\n",
            " 50/100 [==============>...............] - ETA: 1:54 - loss: 0.3096 - acc: 0.8630"
          ],
          "name": "stdout"
        }
      ]
    },
    {
      "cell_type": "markdown",
      "metadata": {
        "id": "xqRc_vHKc92U",
        "colab_type": "text"
      },
      "source": [
        "## Display curves of loss and accuracy during training"
      ]
    },
    {
      "cell_type": "code",
      "metadata": {
        "id": "ybWwdzz9bwuQ",
        "colab_type": "code",
        "outputId": "97a654d3-7a63-40b1-fd4b-bf721e7ca5f1",
        "colab": {
          "base_uri": "https://localhost:8080/",
          "height": 543
        }
      },
      "source": [
        "%matplotlib inline\n",
        "\n",
        "import matplotlib.pyplot as plt\n",
        "\n",
        "acc = history.history['acc']\n",
        "val_acc = history.history['val_acc']\n",
        "\n",
        "loss = history.history['loss']\n",
        "val_loss = history.history['val_loss']\n",
        "\n",
        "epochs = range(1, len(acc) + 1)\n",
        "\n",
        "# training and validation accuracy\n",
        "\n",
        "plt.plot(epochs, acc, 'bo', label='training acc')\n",
        "plt.plot(epochs, val_acc, 'b', label='validation acc')\n",
        "plt.title('training and validation accuracy')\n",
        "plt.legend()\n",
        "\n",
        "plt.figure()\n",
        "\n",
        "# training and validation loss\n",
        "\n",
        "plt.plot(epochs, loss, 'bo', label='training loss')\n",
        "plt.plot(epochs, val_loss, 'b', label='validation loss')\n",
        "plt.title('training and validation loss')\n",
        "plt.legend()\n",
        "\n",
        "plt.show()"
      ],
      "execution_count": 0,
      "outputs": [
        {
          "output_type": "display_data",
          "data": {
            "image/png": "[encoded data removed]",
            "text/plain": [
              "<Figure size 432x288 with 1 Axes>"
            ]
          },
          "metadata": {
            "tags": []
          }
        },
        {
          "output_type": "display_data",
          "data": {
            "image/png": "[encoded data removed]",
            "text/plain": [
              "<Figure size 432x288 with 1 Axes>"
            ]
          },
          "metadata": {
            "tags": []
          }
        }
      ]
    },
    {
      "cell_type": "markdown",
      "metadata": {
        "id": "lOWsxpey8lN0",
        "colab_type": "text"
      },
      "source": [
        "## Fine-tuning"
      ]
    },
    {
      "cell_type": "code",
      "metadata": {
        "id": "PwkVMx8N8qMw",
        "colab_type": "code",
        "colab": {}
      },
      "source": [
        "conv_base.trainable = True\n",
        "\n",
        "set_trainable = False\n",
        "for layer in conv_base.layers:\n",
        "  if layer.name == 'conv2d_3':\n",
        "    set_trainable = True\n",
        "  if set_trainable:\n",
        "    layer.trainable = True\n",
        "  else:\n",
        "    layer.trainable = False"
      ],
      "execution_count": 0,
      "outputs": []
    },
    {
      "cell_type": "code",
      "metadata": {
        "id": "DyN-J7rs9cvo",
        "colab_type": "code",
        "outputId": "c8b2249f-45f4-4236-f0d4-50d92586d50b",
        "colab": {
          "base_uri": "https://localhost:8080/",
          "height": 3377
        }
      },
      "source": [
        "# compile model\n",
        "\n",
        "model.compile(\n",
        "    loss='binary_crossentropy',\n",
        "    #\n",
        "    # choose a smaller learning rate\n",
        "    #\n",
        "    optimizer=optimizers.RMSprop(lr=1e-5), \n",
        "    metrics=['acc'])\n",
        "\n",
        "# train\n",
        "\n",
        "history = model.fit_generator(\n",
        "    train_generator,\n",
        "    steps_per_epoch=100,\n",
        "    epochs=100,\n",
        "    validation_data=validation_generator,\n",
        "    validation_steps=50)"
      ],
      "execution_count": 0,
      "outputs": [
        {
          "output_type": "stream",
          "text": [
            "Epoch 1/100\n",
            "100/100 [==============================] - 29s 290ms/step - loss: 0.2807 - acc: 0.8780 - val_loss: 0.2615 - val_acc: 0.9050\n",
            "Epoch 2/100\n",
            "100/100 [==============================] - 27s 267ms/step - loss: 0.2686 - acc: 0.8885 - val_loss: 0.2210 - val_acc: 0.9110\n",
            "Epoch 3/100\n",
            "100/100 [==============================] - 27s 268ms/step - loss: 0.2290 - acc: 0.9020 - val_loss: 0.2199 - val_acc: 0.9180\n",
            "Epoch 4/100\n",
            "100/100 [==============================] - 27s 269ms/step - loss: 0.2329 - acc: 0.9075 - val_loss: 0.2041 - val_acc: 0.9240\n",
            "Epoch 5/100\n",
            "100/100 [==============================] - 27s 268ms/step - loss: 0.2207 - acc: 0.9040 - val_loss: 0.2134 - val_acc: 0.9230\n",
            "Epoch 6/100\n",
            "100/100 [==============================] - 27s 268ms/step - loss: 0.2019 - acc: 0.9210 - val_loss: 0.1870 - val_acc: 0.9240\n",
            "Epoch 7/100\n",
            "100/100 [==============================] - 27s 267ms/step - loss: 0.1927 - acc: 0.9195 - val_loss: 0.1558 - val_acc: 0.9450\n",
            "Epoch 8/100\n",
            "100/100 [==============================] - 27s 268ms/step - loss: 0.1731 - acc: 0.9275 - val_loss: 0.3439 - val_acc: 0.8950\n",
            "Epoch 9/100\n",
            "100/100 [==============================] - 27s 269ms/step - loss: 0.1661 - acc: 0.9375 - val_loss: 0.1739 - val_acc: 0.9410\n",
            "Epoch 10/100\n",
            "100/100 [==============================] - 27s 269ms/step - loss: 0.1529 - acc: 0.9370 - val_loss: 0.2218 - val_acc: 0.9280\n",
            "Epoch 11/100\n",
            "100/100 [==============================] - 27s 269ms/step - loss: 0.1508 - acc: 0.9345 - val_loss: 0.2253 - val_acc: 0.9280\n",
            "Epoch 12/100\n",
            "100/100 [==============================] - 27s 269ms/step - loss: 0.1392 - acc: 0.9470 - val_loss: 0.1825 - val_acc: 0.9400\n",
            "Epoch 13/100\n",
            "100/100 [==============================] - 27s 268ms/step - loss: 0.1370 - acc: 0.9480 - val_loss: 0.2039 - val_acc: 0.9330\n",
            "Epoch 14/100\n",
            "100/100 [==============================] - 27s 269ms/step - loss: 0.1398 - acc: 0.9435 - val_loss: 0.1915 - val_acc: 0.9380\n",
            "Epoch 15/100\n",
            "100/100 [==============================] - 27s 270ms/step - loss: 0.1138 - acc: 0.9515 - val_loss: 0.1760 - val_acc: 0.9410\n",
            "Epoch 16/100\n",
            "100/100 [==============================] - 27s 269ms/step - loss: 0.1199 - acc: 0.9505 - val_loss: 0.3001 - val_acc: 0.9110\n",
            "Epoch 17/100\n",
            "100/100 [==============================] - 27s 269ms/step - loss: 0.1121 - acc: 0.9575 - val_loss: 0.1918 - val_acc: 0.9410\n",
            "Epoch 18/100\n",
            "100/100 [==============================] - 27s 269ms/step - loss: 0.1086 - acc: 0.9595 - val_loss: 0.2275 - val_acc: 0.9370\n",
            "Epoch 19/100\n",
            "100/100 [==============================] - 27s 269ms/step - loss: 0.1089 - acc: 0.9585 - val_loss: 0.2696 - val_acc: 0.9180\n",
            "Epoch 20/100\n",
            "100/100 [==============================] - 27s 269ms/step - loss: 0.0929 - acc: 0.9615 - val_loss: 0.1932 - val_acc: 0.9410\n",
            "Epoch 21/100\n",
            "100/100 [==============================] - 27s 270ms/step - loss: 0.0900 - acc: 0.9635 - val_loss: 0.1862 - val_acc: 0.9370\n",
            "Epoch 22/100\n",
            "100/100 [==============================] - 27s 270ms/step - loss: 0.0856 - acc: 0.9645 - val_loss: 0.2677 - val_acc: 0.9260\n",
            "Epoch 23/100\n",
            "100/100 [==============================] - 27s 269ms/step - loss: 0.0760 - acc: 0.9710 - val_loss: 0.3044 - val_acc: 0.9250\n",
            "Epoch 24/100\n",
            "100/100 [==============================] - 27s 269ms/step - loss: 0.0764 - acc: 0.9725 - val_loss: 0.1971 - val_acc: 0.9470\n",
            "Epoch 25/100\n",
            "100/100 [==============================] - 27s 269ms/step - loss: 0.0713 - acc: 0.9770 - val_loss: 0.2527 - val_acc: 0.9340\n",
            "Epoch 26/100\n",
            "100/100 [==============================] - 27s 268ms/step - loss: 0.0775 - acc: 0.9680 - val_loss: 0.1997 - val_acc: 0.9380\n",
            "Epoch 27/100\n",
            "100/100 [==============================] - 27s 269ms/step - loss: 0.0715 - acc: 0.9725 - val_loss: 0.1841 - val_acc: 0.9450\n",
            "Epoch 28/100\n",
            "100/100 [==============================] - 27s 270ms/step - loss: 0.0796 - acc: 0.9670 - val_loss: 0.2349 - val_acc: 0.9390\n",
            "Epoch 29/100\n",
            "100/100 [==============================] - 27s 270ms/step - loss: 0.0761 - acc: 0.9675 - val_loss: 0.2163 - val_acc: 0.9380\n",
            "Epoch 30/100\n",
            "100/100 [==============================] - 27s 269ms/step - loss: 0.0696 - acc: 0.9735 - val_loss: 0.1941 - val_acc: 0.9430\n",
            "Epoch 31/100\n",
            "100/100 [==============================] - 27s 269ms/step - loss: 0.0630 - acc: 0.9770 - val_loss: 0.2935 - val_acc: 0.9210\n",
            "Epoch 32/100\n",
            "100/100 [==============================] - 27s 269ms/step - loss: 0.0757 - acc: 0.9725 - val_loss: 0.2635 - val_acc: 0.9300\n",
            "Epoch 33/100\n",
            "100/100 [==============================] - 27s 269ms/step - loss: 0.0645 - acc: 0.9745 - val_loss: 0.2183 - val_acc: 0.9430\n",
            "Epoch 34/100\n",
            "100/100 [==============================] - 27s 269ms/step - loss: 0.0427 - acc: 0.9825 - val_loss: 0.1534 - val_acc: 0.9520\n",
            "Epoch 35/100\n",
            "100/100 [==============================] - 27s 269ms/step - loss: 0.0550 - acc: 0.9800 - val_loss: 0.3282 - val_acc: 0.9300\n",
            "Epoch 36/100\n",
            "100/100 [==============================] - 27s 269ms/step - loss: 0.0636 - acc: 0.9790 - val_loss: 0.2576 - val_acc: 0.9410\n",
            "Epoch 37/100\n",
            "100/100 [==============================] - 27s 268ms/step - loss: 0.0642 - acc: 0.9760 - val_loss: 0.3076 - val_acc: 0.9250\n",
            "Epoch 38/100\n",
            "100/100 [==============================] - 27s 267ms/step - loss: 0.0502 - acc: 0.9820 - val_loss: 0.3608 - val_acc: 0.9290\n",
            "Epoch 39/100\n",
            "100/100 [==============================] - 27s 266ms/step - loss: 0.0483 - acc: 0.9805 - val_loss: 0.3187 - val_acc: 0.9360\n",
            "Epoch 40/100\n",
            "100/100 [==============================] - 27s 269ms/step - loss: 0.0540 - acc: 0.9800 - val_loss: 0.2250 - val_acc: 0.9390\n",
            "Epoch 41/100\n",
            "100/100 [==============================] - 27s 267ms/step - loss: 0.0504 - acc: 0.9815 - val_loss: 0.3995 - val_acc: 0.9190\n",
            "Epoch 42/100\n",
            "100/100 [==============================] - 27s 268ms/step - loss: 0.0404 - acc: 0.9885 - val_loss: 0.1875 - val_acc: 0.9530\n",
            "Epoch 43/100\n",
            "100/100 [==============================] - 27s 266ms/step - loss: 0.0530 - acc: 0.9810 - val_loss: 0.2738 - val_acc: 0.9350\n",
            "Epoch 44/100\n",
            "100/100 [==============================] - 26s 264ms/step - loss: 0.0403 - acc: 0.9850 - val_loss: 0.2369 - val_acc: 0.9440\n",
            "Epoch 45/100\n",
            "100/100 [==============================] - 27s 268ms/step - loss: 0.0430 - acc: 0.9830 - val_loss: 0.2627 - val_acc: 0.9370\n",
            "Epoch 46/100\n",
            "100/100 [==============================] - 27s 268ms/step - loss: 0.0431 - acc: 0.9840 - val_loss: 0.2256 - val_acc: 0.9420\n",
            "Epoch 47/100\n",
            "100/100 [==============================] - 27s 267ms/step - loss: 0.0526 - acc: 0.9795 - val_loss: 0.3218 - val_acc: 0.9350\n",
            "Epoch 48/100\n",
            "100/100 [==============================] - 27s 267ms/step - loss: 0.0388 - acc: 0.9875 - val_loss: 0.2341 - val_acc: 0.9430\n",
            "Epoch 49/100\n",
            "100/100 [==============================] - 27s 267ms/step - loss: 0.0396 - acc: 0.9845 - val_loss: 0.2010 - val_acc: 0.9480\n",
            "Epoch 50/100\n",
            "100/100 [==============================] - 27s 268ms/step - loss: 0.0355 - acc: 0.9885 - val_loss: 0.2544 - val_acc: 0.9430\n",
            "Epoch 51/100\n",
            "100/100 [==============================] - 27s 268ms/step - loss: 0.0335 - acc: 0.9860 - val_loss: 0.2016 - val_acc: 0.9540\n",
            "Epoch 52/100\n",
            "100/100 [==============================] - 27s 268ms/step - loss: 0.0371 - acc: 0.9850 - val_loss: 0.2506 - val_acc: 0.9460\n",
            "Epoch 53/100\n",
            "100/100 [==============================] - 27s 268ms/step - loss: 0.0305 - acc: 0.9875 - val_loss: 0.2550 - val_acc: 0.9430\n",
            "Epoch 54/100\n",
            "100/100 [==============================] - 27s 269ms/step - loss: 0.0326 - acc: 0.9845 - val_loss: 0.2175 - val_acc: 0.9610\n",
            "Epoch 55/100\n",
            "100/100 [==============================] - 27s 269ms/step - loss: 0.0218 - acc: 0.9925 - val_loss: 0.2022 - val_acc: 0.9570\n",
            "Epoch 56/100\n",
            "100/100 [==============================] - 27s 269ms/step - loss: 0.0396 - acc: 0.9860 - val_loss: 0.2207 - val_acc: 0.9520\n",
            "Epoch 57/100\n",
            "100/100 [==============================] - 27s 269ms/step - loss: 0.0450 - acc: 0.9840 - val_loss: 0.3072 - val_acc: 0.9400\n",
            "Epoch 58/100\n",
            "100/100 [==============================] - 27s 269ms/step - loss: 0.0293 - acc: 0.9890 - val_loss: 0.2114 - val_acc: 0.9520\n",
            "Epoch 59/100\n",
            "100/100 [==============================] - 27s 268ms/step - loss: 0.0389 - acc: 0.9865 - val_loss: 0.1939 - val_acc: 0.9530\n",
            "Epoch 60/100\n",
            "100/100 [==============================] - 27s 268ms/step - loss: 0.0386 - acc: 0.9865 - val_loss: 0.3334 - val_acc: 0.9300\n",
            "Epoch 61/100\n",
            "100/100 [==============================] - 27s 268ms/step - loss: 0.0249 - acc: 0.9920 - val_loss: 0.2643 - val_acc: 0.9530\n",
            "Epoch 62/100\n",
            "100/100 [==============================] - 27s 270ms/step - loss: 0.0322 - acc: 0.9855 - val_loss: 0.2531 - val_acc: 0.9500\n",
            "Epoch 63/100\n",
            "100/100 [==============================] - 27s 268ms/step - loss: 0.0369 - acc: 0.9870 - val_loss: 0.2709 - val_acc: 0.9420\n",
            "Epoch 64/100\n",
            "100/100 [==============================] - 27s 269ms/step - loss: 0.0229 - acc: 0.9915 - val_loss: 0.2287 - val_acc: 0.9600\n",
            "Epoch 65/100\n",
            "100/100 [==============================] - 27s 268ms/step - loss: 0.0260 - acc: 0.9885 - val_loss: 0.1986 - val_acc: 0.9590\n",
            "Epoch 66/100\n",
            "100/100 [==============================] - 27s 270ms/step - loss: 0.0327 - acc: 0.9865 - val_loss: 0.2493 - val_acc: 0.9510\n",
            "Epoch 67/100\n",
            "100/100 [==============================] - 27s 269ms/step - loss: 0.0308 - acc: 0.9890 - val_loss: 0.3151 - val_acc: 0.9400\n",
            "Epoch 68/100\n",
            "100/100 [==============================] - 27s 268ms/step - loss: 0.0267 - acc: 0.9905 - val_loss: 0.2130 - val_acc: 0.9500\n",
            "Epoch 69/100\n",
            "100/100 [==============================] - 27s 268ms/step - loss: 0.0265 - acc: 0.9880 - val_loss: 0.2440 - val_acc: 0.9540\n",
            "Epoch 70/100\n",
            "100/100 [==============================] - 27s 267ms/step - loss: 0.0235 - acc: 0.9900 - val_loss: 0.2403 - val_acc: 0.9530\n",
            "Epoch 71/100\n",
            "100/100 [==============================] - 27s 269ms/step - loss: 0.0311 - acc: 0.9885 - val_loss: 0.3174 - val_acc: 0.9300\n",
            "Epoch 72/100\n",
            "100/100 [==============================] - 27s 267ms/step - loss: 0.0226 - acc: 0.9930 - val_loss: 0.2940 - val_acc: 0.9350\n",
            "Epoch 73/100\n",
            "100/100 [==============================] - 27s 267ms/step - loss: 0.0234 - acc: 0.9910 - val_loss: 0.2380 - val_acc: 0.9500\n",
            "Epoch 74/100\n",
            "100/100 [==============================] - 27s 266ms/step - loss: 0.0232 - acc: 0.9925 - val_loss: 0.3169 - val_acc: 0.9370\n",
            "Epoch 75/100\n",
            "100/100 [==============================] - 27s 269ms/step - loss: 0.0259 - acc: 0.9930 - val_loss: 0.3292 - val_acc: 0.9400\n",
            "Epoch 76/100\n",
            "100/100 [==============================] - 27s 267ms/step - loss: 0.0177 - acc: 0.9940 - val_loss: 0.2653 - val_acc: 0.9460\n",
            "Epoch 77/100\n",
            "100/100 [==============================] - 27s 269ms/step - loss: 0.0230 - acc: 0.9905 - val_loss: 0.3764 - val_acc: 0.9350\n",
            "Epoch 78/100\n",
            "100/100 [==============================] - 27s 267ms/step - loss: 0.0279 - acc: 0.9885 - val_loss: 0.3214 - val_acc: 0.9430\n",
            "Epoch 79/100\n",
            "100/100 [==============================] - 27s 266ms/step - loss: 0.0247 - acc: 0.9910 - val_loss: 0.2442 - val_acc: 0.9490\n",
            "Epoch 80/100\n",
            "100/100 [==============================] - 27s 266ms/step - loss: 0.0292 - acc: 0.9875 - val_loss: 0.3284 - val_acc: 0.9430\n",
            "Epoch 81/100\n",
            "100/100 [==============================] - 27s 266ms/step - loss: 0.0237 - acc: 0.9935 - val_loss: 0.2735 - val_acc: 0.9490\n",
            "Epoch 82/100\n",
            "100/100 [==============================] - 27s 267ms/step - loss: 0.0264 - acc: 0.9905 - val_loss: 0.2957 - val_acc: 0.9380\n",
            "Epoch 83/100\n",
            "100/100 [==============================] - 26s 264ms/step - loss: 0.0237 - acc: 0.9920 - val_loss: 0.2135 - val_acc: 0.9520\n",
            "Epoch 84/100\n",
            "100/100 [==============================] - 27s 266ms/step - loss: 0.0295 - acc: 0.9905 - val_loss: 0.2302 - val_acc: 0.9580\n",
            "Epoch 85/100\n",
            "100/100 [==============================] - 27s 265ms/step - loss: 0.0267 - acc: 0.9930 - val_loss: 0.2763 - val_acc: 0.9520\n",
            "Epoch 86/100\n",
            "100/100 [==============================] - 27s 266ms/step - loss: 0.0192 - acc: 0.9930 - val_loss: 0.4515 - val_acc: 0.9320\n",
            "Epoch 87/100\n",
            "100/100 [==============================] - 27s 265ms/step - loss: 0.0227 - acc: 0.9920 - val_loss: 0.2442 - val_acc: 0.9450\n",
            "Epoch 88/100\n",
            "100/100 [==============================] - 27s 267ms/step - loss: 0.0190 - acc: 0.9940 - val_loss: 0.3292 - val_acc: 0.9390\n",
            "Epoch 89/100\n",
            "100/100 [==============================] - 27s 265ms/step - loss: 0.0172 - acc: 0.9925 - val_loss: 0.2748 - val_acc: 0.9510\n",
            "Epoch 90/100\n",
            "100/100 [==============================] - 27s 267ms/step - loss: 0.0238 - acc: 0.9885 - val_loss: 0.2622 - val_acc: 0.9530\n",
            "Epoch 91/100\n",
            "100/100 [==============================] - 27s 268ms/step - loss: 0.0245 - acc: 0.9915 - val_loss: 0.2883 - val_acc: 0.9490\n",
            "Epoch 92/100\n",
            "100/100 [==============================] - 27s 266ms/step - loss: 0.0166 - acc: 0.9950 - val_loss: 0.2646 - val_acc: 0.9570\n",
            "Epoch 93/100\n",
            "100/100 [==============================] - 27s 268ms/step - loss: 0.0212 - acc: 0.9935 - val_loss: 0.2609 - val_acc: 0.9490\n",
            "Epoch 94/100\n",
            "100/100 [==============================] - 27s 267ms/step - loss: 0.0231 - acc: 0.9915 - val_loss: 0.3442 - val_acc: 0.9460\n",
            "Epoch 95/100\n",
            "100/100 [==============================] - 27s 266ms/step - loss: 0.0290 - acc: 0.9905 - val_loss: 0.2704 - val_acc: 0.9480\n",
            "Epoch 96/100\n",
            "100/100 [==============================] - 27s 267ms/step - loss: 0.0240 - acc: 0.9930 - val_loss: 0.2700 - val_acc: 0.9460\n",
            "Epoch 97/100\n",
            "100/100 [==============================] - 27s 265ms/step - loss: 0.0161 - acc: 0.9950 - val_loss: 0.3633 - val_acc: 0.9430\n",
            "Epoch 98/100\n",
            "100/100 [==============================] - 27s 267ms/step - loss: 0.0196 - acc: 0.9920 - val_loss: 0.3085 - val_acc: 0.9420\n",
            "Epoch 99/100\n",
            "100/100 [==============================] - 27s 266ms/step - loss: 0.0234 - acc: 0.9920 - val_loss: 0.2316 - val_acc: 0.9560\n",
            "Epoch 100/100\n",
            "100/100 [==============================] - 27s 268ms/step - loss: 0.0153 - acc: 0.9935 - val_loss: 0.3332 - val_acc: 0.9450\n"
          ],
          "name": "stdout"
        }
      ]
    },
    {
      "cell_type": "markdown",
      "metadata": {
        "id": "eVBQgh5M-Rtz",
        "colab_type": "text"
      },
      "source": [
        "## Display learning curves during fine-tuning"
      ]
    },
    {
      "cell_type": "code",
      "metadata": {
        "id": "mbkIw7Ie-NP4",
        "colab_type": "code",
        "outputId": "b14d7981-c859-495a-d9d2-4370eb30bc77",
        "colab": {
          "base_uri": "https://localhost:8080/",
          "height": 543
        }
      },
      "source": [
        "%matplotlib inline\n",
        "\n",
        "import matplotlib.pyplot as plt\n",
        "\n",
        "acc = history.history['acc']\n",
        "val_acc = history.history['val_acc']\n",
        "\n",
        "loss = history.history['loss']\n",
        "val_loss = history.history['val_loss']\n",
        "\n",
        "epochs = range(1, len(acc) + 1)\n",
        "\n",
        "# training and validation accuracy\n",
        "\n",
        "plt.plot(epochs, acc, 'bo', label='training acc')\n",
        "plt.plot(epochs, val_acc, 'b', label='validation acc')\n",
        "plt.title('training and validation accuracy')\n",
        "plt.legend()\n",
        "\n",
        "plt.figure()\n",
        "\n",
        "# training and validation loss\n",
        "\n",
        "plt.plot(epochs, loss, 'bo', label='training loss')\n",
        "plt.plot(epochs, val_loss, 'b', label='validation loss')\n",
        "plt.title('training and validation loss')\n",
        "plt.legend()\n",
        "\n",
        "plt.show()"
      ],
      "execution_count": 0,
      "outputs": [
        {
          "output_type": "display_data",
          "data": {
            "image/png": "[encoded data removed]",
            "text/plain": [
              "<Figure size 432x288 with 1 Axes>"
            ]
          },
          "metadata": {
            "tags": []
          }
        },
        {
          "output_type": "display_data",
          "data": {
            "image/png": "[encoded data removed]",
            "text/plain": [
              "<Figure size 432x288 with 1 Axes>"
            ]
          },
          "metadata": {
            "tags": []
          }
        }
      ]
    },
    {
      "cell_type": "markdown",
      "metadata": {
        "id": "obQi6N4ZShdi",
        "colab_type": "text"
      },
      "source": [
        "This looks like overfitting. I should try  adding dropout for the densely connected layer."
      ]
    },
    {
      "cell_type": "markdown",
      "metadata": {
        "id": "he3Nw6TOJwjx",
        "colab_type": "text"
      },
      "source": [
        "## Print out validation loss and accuracy"
      ]
    },
    {
      "cell_type": "code",
      "metadata": {
        "id": "SVQtrk7uJdhl",
        "colab_type": "code",
        "colab": {}
      },
      "source": [
        "val_loss, val_acc = model.evaluate_generator(validation_generator, steps=50)"
      ],
      "execution_count": 0,
      "outputs": []
    },
    {
      "cell_type": "code",
      "metadata": {
        "id": "HpdddLi1SUMe",
        "colab_type": "code",
        "outputId": "3f64df7d-1654-4c43-c6f7-d1771d8b3368",
        "colab": {
          "base_uri": "https://localhost:8080/",
          "height": 50
        }
      },
      "source": [
        "print(\"Validation loss:\", val_loss)\n",
        "print(\"Validation accuracy:\", val_acc)"
      ],
      "execution_count": 0,
      "outputs": [
        {
          "output_type": "stream",
          "text": [
            "Validation loss: 0.2544833068206435\n",
            "Validation accuracy: 0.9499999916553498\n"
          ],
          "name": "stdout"
        }
      ]
    },
    {
      "cell_type": "markdown",
      "metadata": {
        "id": "7Ww756WToby8",
        "colab_type": "text"
      },
      "source": [
        "## Save the model"
      ]
    },
    {
      "cell_type": "code",
      "metadata": {
        "id": "0lTUpUdwobKW",
        "colab_type": "code",
        "colab": {}
      },
      "source": [
        "model_fname = 'cats_and_dogs_small_4.h5' \n",
        "model.save(model_fname)"
      ],
      "execution_count": 0,
      "outputs": []
    },
    {
      "cell_type": "code",
      "metadata": {
        "id": "YhEoI8ZTok-X",
        "colab_type": "code",
        "colab": {}
      },
      "source": [
        "from google.colab import files\n",
        "\n",
        "with open(model_fname, 'r') as f:\n",
        "  files.download(model_fname)"
      ],
      "execution_count": 0,
      "outputs": []
    },
    {
      "cell_type": "markdown",
      "metadata": {
        "id": "zcjIqI9VKaDo",
        "colab_type": "text"
      },
      "source": [
        "## Sources:\n",
        "\n",
        "1. https://colab.research.google.com/drive/1F-RWvoxH8MmT7c1UmNy41iuOp-ejiLoF#scrollTo=Fh6gZSeAjF7c&forceEdit=true&sandboxMode=true\n",
        "\n",
        "2. https://colab.research.google.com/drive/1F-RWvoxH8MmT7c1UmNy41iuOp-ejiLoF#scrollTo=Fh6gZSeAjF7c&forceEdit=true&sandboxMode=true"
      ]
    }
  ]
}
