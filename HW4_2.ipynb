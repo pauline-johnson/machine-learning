{
  "nbformat": 4,
  "nbformat_minor": 0,
  "metadata": {
    "colab": {
      "name": "HW4-2.ipynb",
      "provenance": [],
      "authorship_tag": "ABX9TyO01FQ16gNKb1OcZo3eJjPR",
      "include_colab_link": true
    },
    "kernelspec": {
      "name": "python3",
      "display_name": "Python 3"
    }
  },
  "cells": [
    {
      "cell_type": "markdown",
      "metadata": {
        "id": "view-in-github",
        "colab_type": "text"
      },
      "source": [
        "<a href=\"https://colab.research.google.com/github/pauline-johnson/machine-learning/blob/master/HW4_2.ipynb\" target=\"_parent\"><img src=\"https://colab.research.google.com/assets/colab-badge.svg\" alt=\"Open In Colab\"/></a>"
      ]
    },
    {
      "cell_type": "markdown",
      "metadata": {
        "id": "ixw-JFPV-Qha",
        "colab_type": "text"
      },
      "source": [
        "#Homework 4-2\n",
        "`maxpooling2d` takes in a square matrix `input_mat` and a window shape `s` and performs the maxpooling operation on `input_mat` using a window of shape `s` x `s`. Returns a matrix `output_mat`."
      ]
    },
    {
      "cell_type": "markdown",
      "metadata": {
        "id": "YI_E6DMYBHyi",
        "colab_type": "text"
      },
      "source": [
        "## Maxpooling function"
      ]
    },
    {
      "cell_type": "code",
      "metadata": {
        "id": "uhSet9B9YoPZ",
        "colab_type": "code",
        "colab": {}
      },
      "source": [
        "import numpy as np\n",
        "\n",
        "def maxpooling2d(input_mat, s):\n",
        "\n",
        "  input_shape = input_mat.shape[0]\n",
        "  new_shape = int((input_shape - s) / s + 1)\n",
        "\n",
        "  output_mat = np.zeros((new_shape, new_shape))\n",
        "\n",
        "  for i in np.arange(new_shape):\n",
        "    for j in np.arange(new_shape):\n",
        "      output_mat[i][j] = input_mat[i*s][j*s]\n",
        "      for k in np.arange(s):\n",
        "        for l in np.arange(s):\n",
        "          output_mat[i][j] = max(output_mat[i][j], input_mat[k+i*s][l+j*s])\n",
        "\n",
        "  return output_mat"
      ],
      "execution_count": 0,
      "outputs": []
    },
    {
      "cell_type": "markdown",
      "metadata": {
        "id": "bHGN_t_OBeNH",
        "colab_type": "text"
      },
      "source": [
        "## Test Cases"
      ]
    },
    {
      "cell_type": "code",
      "metadata": {
        "id": "xQl5GPs2Ymyu",
        "colab_type": "code",
        "outputId": "1331660d-bfaa-4f0d-9885-50aa47fe1534",
        "colab": {
          "base_uri": "https://localhost:8080/",
          "height": 70
        }
      },
      "source": [
        "import skimage.measure\n",
        "\n",
        "input_mat = []\n",
        "expected_mat = []\n",
        "s = []\n",
        "input_mat.append(np.array([[1, 2, 1, 2],\n",
        "                      [2, 4, 2, 1],\n",
        "                      [1, 2, 4, 2],\n",
        "                      [2, 1, 2, 1]]))\n",
        "s.append(2)\n",
        "\n",
        "expected_mat.append(np.array([[4, 2],\n",
        "                                [2, 4]]))\n",
        "\n",
        "\n",
        "for i in range(len(input_mat)):\n",
        "  # uncomment top line and comment second line to test code\n",
        "  output_mat = maxpooling2d(input_mat[i], s[i])\n",
        "  #output_mat = skimage.measure.block_reduce(input_mat[i], (s[i],s[i]), np.max)\n",
        "\n",
        "  print(output_mat)\n",
        "\n",
        "  if np.array_equal(output_mat, expected_mat[i]):\n",
        "    print(\"Correct output!\")\n",
        "  else:\n",
        "    print(\"Incorrect output!\")\n"
      ],
      "execution_count": 0,
      "outputs": [
        {
          "output_type": "stream",
          "text": [
            "[[4. 2.]\n",
            " [2. 4.]]\n",
            "Correct output!\n"
          ],
          "name": "stdout"
        }
      ]
    }
  ]
}