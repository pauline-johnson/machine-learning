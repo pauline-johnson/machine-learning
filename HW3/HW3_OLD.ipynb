{
  "nbformat": 4,
  "nbformat_minor": 0,
  "metadata": {
    "colab": {
      "name": "HW3.ipynb",
      "provenance": [],
      "collapsed_sections": [
        "JuApWSfPEHWy"
      ],
      "mount_file_id": "1G7DftZlNcgYfVJKaa60hQ09Lkg-GrNS8",
      "authorship_tag": "ABX9TyObcEU19zEdrtJbPytK1F5z",
      "include_colab_link": true
    },
    "kernelspec": {
      "name": "python3",
      "display_name": "Python 3"
    }
  },
  "cells": [
    {
      "cell_type": "markdown",
      "metadata": {
        "id": "view-in-github",
        "colab_type": "text"
      },
      "source": [
        "<a href=\"https://colab.research.google.com/github/pauline-johnson/machine-learning/blob/master/HW3.ipynb\" target=\"_parent\"><img src=\"https://colab.research.google.com/assets/colab-badge.svg\" alt=\"Open In Colab\"/></a>"
      ]
    },
    {
      "cell_type": "markdown",
      "metadata": {
        "id": "pD-LF-IqgSZO",
        "colab_type": "text"
      },
      "source": [
        "# Homework 3 Logistical Regression\n",
        "\n",
        "## Problem 1 \n",
        "\n",
        "In problem 1, we generate and display random data for logical regression with two features and a class label."
      ]
    },
    {
      "cell_type": "code",
      "metadata": {
        "id": "krQOtyvXhkmt",
        "colab_type": "code",
        "outputId": "cbaa7ff4-2fc9-445f-b366-f23dde833a97",
        "colab": {
          "base_uri": "https://localhost:8080/",
          "height": 71
        }
      },
      "source": [
        "import numpy as np\n",
        "import random as ra\n",
        "import matplotlib.pyplot as plt\n",
        "import pandas as pd\n",
        "import seaborn as sns\n",
        "from keras.optimizers import SGD\n"
      ],
      "execution_count": 5,
      "outputs": [
        {
          "output_type": "stream",
          "text": [
            "/usr/local/lib/python3.6/dist-packages/statsmodels/tools/_testing.py:19: FutureWarning: pandas.util.testing is deprecated. Use the functions in the public API at pandas.testing instead.\n",
            "  import pandas.util.testing as tm\n"
          ],
          "name": "stderr"
        }
      ]
    },
    {
      "cell_type": "markdown",
      "metadata": {
        "id": "QziBhTt3hmCS",
        "colab_type": "text"
      },
      "source": [
        "This function generates random data for logistical regression with features x_1 and x_2. It returns a data array of shape (m,2) and a labels array of shape (m,1)."
      ]
    },
    {
      "cell_type": "code",
      "metadata": {
        "id": "og4EHcggh87N",
        "colab_type": "code",
        "colab": {}
      },
      "source": [
        "def get_random_data(w, b, mu, sigma, m):\n",
        "\n",
        "  # Create data array and labels array (vector).\n",
        "  # Data = m rows, 2 columns\n",
        "  # Labels = m rows, 1 columns\n",
        "  data = np.empty((m,2))\n",
        "  labels = np.empty((m,1))\n",
        "\n",
        "  for i in range (0, m): \n",
        "\n",
        "    # Generate class label c.\n",
        "    rand = ra.random()\n",
        "    c = 0 if rand <= 0.5 else 1\n",
        "\n",
        "    # Generate feature x_1 with uniform distribution.\n",
        "    x_1 = np.random.uniform(0,1)\n",
        "\n",
        "    # Generate feature x_2 with normal distribution.\n",
        "    n = np.random.default_rng().normal(mu, sigma)\n",
        "    x_2 = w * x_1 + b + (-1)**c * n\n",
        "\n",
        "    # Set matrices.\n",
        "    data[i][0] = x_1\n",
        "    data[i][1] = x_2\n",
        "    labels[i][0] = c\n",
        "\n",
        "  return data, labels"
      ],
      "execution_count": 0,
      "outputs": []
    },
    {
      "cell_type": "markdown",
      "metadata": {
        "id": "h349esymiFNn",
        "colab_type": "text"
      },
      "source": [
        "Using the data randomly generated above, display_random_data graphs a scatterplot of the data points, where the data corresponding to a label of 1 are red and a label of 0 are blue."
      ]
    },
    {
      "cell_type": "code",
      "metadata": {
        "id": "8u90SJbpiEMe",
        "colab_type": "code",
        "colab": {}
      },
      "source": [
        "def display_random_data(data, labels):\n",
        "\n",
        "  # Create colors array to display a label of 0 as blue\n",
        "  # and a label of 1 as red.\n",
        "  m = len(labels)\n",
        "  colors = [\"\" for x in range(m)]\n",
        "  colorlabel = [\"\" for x in range(m)]\n",
        "  coloroptions = ['b','r']\n",
        "  for i in range(m):\n",
        "    label = labels.T[0][i]\n",
        "    colors[i] = 'r' if label == 1 else 'b'\n",
        "\n",
        "  # Scatter plot (0th column of data = x, 1st column = y)\n",
        "  x = data[:,0]\n",
        "  y = data[:,1]\n",
        "  for i in range(0,m):\n",
        "    colorlab = '0' if colors[i] == 'r' else '1'\n",
        "    plt.plot(data[i,0], data[i,1],'o', color=colors[i])\n",
        "  plt.xlabel('x1')\n",
        "  plt.ylabel('x2')\n"
      ],
      "execution_count": 0,
      "outputs": []
    },
    {
      "cell_type": "markdown",
      "metadata": {
        "id": "EIESad2QjiQO",
        "colab_type": "text"
      },
      "source": [
        "Here we call the functions and split the data into a training and test set for future use. "
      ]
    },
    {
      "cell_type": "code",
      "metadata": {
        "id": "F9P5lKMnHOCu",
        "colab_type": "code",
        "outputId": "96db4ac9-c388-499f-c671-201ec2dc9ab3",
        "colab": {
          "base_uri": "https://localhost:8080/",
          "height": 279
        }
      },
      "source": [
        "# Generate random data.\n",
        "w = .6\n",
        "b = .8\n",
        "mu = .4\n",
        "sigma = .1\n",
        "m = 1000\n",
        "\n",
        "data,labels = get_random_data(w, b, mu, sigma, m)\n",
        "\n",
        "# Display random data.\n",
        "display_random_data(data,labels)\n",
        "\n",
        "# Split data and labels into training and test sets (~80% training and \n",
        "# 20% testing data).\n",
        "training_size = (int)(0.8 * m)\n",
        "\n",
        "training_data = data[:training_size]\n",
        "test_data = data[training_size:]\n",
        "\n",
        "training_labels = labels[:training_size]\n",
        "test_labels = labels[training_size:]\n",
        "\n",
        "training_data = np.asarray(training_data).astype(np.float32)\n"
      ],
      "execution_count": 8,
      "outputs": [
        {
          "output_type": "display_data",
          "data": {
            "image/png": "[encoded data removed]",
            "text/plain": [
              "<Figure size 432x288 with 1 Axes>"
            ]
          },
          "metadata": {
            "tags": []
          }
        }
      ]
    },
    {
      "cell_type": "markdown",
      "metadata": {
        "id": "O_nrolclkkl6",
        "colab_type": "text"
      },
      "source": [
        "# Problem 2\n",
        "\n",
        "Using the randomly generated data from above, create a Keras to implement logical regression.\n",
        " "
      ]
    },
    {
      "cell_type": "code",
      "metadata": {
        "id": "qkrSlp54rI8g",
        "colab_type": "code",
        "colab": {}
      },
      "source": [
        "from tensorflow.python.keras.models import Sequential\n",
        "from tensorflow.python.keras.layers import Dense\n",
        "from keras.optimizers import SGD\n"
      ],
      "execution_count": 0,
      "outputs": []
    },
    {
      "cell_type": "markdown",
      "metadata": {
        "id": "8EgABET-lSeC",
        "colab_type": "text"
      },
      "source": [
        "The Sequential model is a linear stack of layers.\n",
        " We will add a Dense layer that accepts two-dimensional input\n",
        " with two rows and output with one row.\n"
      ]
    },
    {
      "cell_type": "code",
      "metadata": {
        "id": "0q3r21bKlQXV",
        "colab_type": "code",
        "colab": {}
      },
      "source": [
        "model = Sequential()\n",
        "model.add(Dense(1, input_shape=(2,)))\n"
      ],
      "execution_count": 0,
      "outputs": []
    },
    {
      "cell_type": "markdown",
      "metadata": {
        "id": "bLMKKCZ4lNG2",
        "colab_type": "text"
      },
      "source": [
        "Now we configure the learning process.\n",
        "There are two required parameters, a loss function and an optimizer. \n",
        "\n",
        "Loss functions evaluate how well the model models your dataset.\n",
        "We use the default binary cross-entropy.\n",
        "\n",
        "Optimizers tie together loss function and model parameters by updating the model in response to loss function's output. We use stochastic gradient descent which uses random batches for this process.\n",
        "\n",
        "We train model for 1000 epochs, or iterations on a dataset. As you can see the loss goes down every epoch.\n"
      ]
    },
    {
      "cell_type": "code",
      "metadata": {
        "id": "SncHEzXgA_oA",
        "colab_type": "code",
        "outputId": "51a605f8-c9f0-4607-cafa-be9496ee5e2f",
        "colab": {
          "base_uri": "https://localhost:8080/",
          "height": 1000
        }
      },
      "source": [
        "model.compile(loss='binary_crossentropy', optimizer='sgd')\n",
        "model.fit(training_data, training_labels, epochs=100, batch_size=8, verbose=1)"
      ],
      "execution_count": 11,
      "outputs": [
        {
          "output_type": "stream",
          "text": [
            "Epoch 1/100\n",
            "100/100 [==============================] - 0s 968us/step - loss: 0.7312\n",
            "Epoch 2/100\n",
            "100/100 [==============================] - 0s 1ms/step - loss: 0.3367\n",
            "Epoch 3/100\n",
            "100/100 [==============================] - 0s 1ms/step - loss: 0.2066\n",
            "Epoch 4/100\n",
            "100/100 [==============================] - 0s 981us/step - loss: 0.1290\n",
            "Epoch 5/100\n",
            "100/100 [==============================] - 0s 1ms/step - loss: 0.0849\n",
            "Epoch 6/100\n",
            "100/100 [==============================] - 0s 976us/step - loss: 0.0610\n",
            "Epoch 7/100\n",
            "100/100 [==============================] - 0s 904us/step - loss: 0.0474\n",
            "Epoch 8/100\n",
            "100/100 [==============================] - 0s 1ms/step - loss: 0.0383\n",
            "Epoch 9/100\n",
            "100/100 [==============================] - 0s 1ms/step - loss: 0.0325\n",
            "Epoch 10/100\n",
            "100/100 [==============================] - 0s 1ms/step - loss: 0.0286\n",
            "Epoch 11/100\n",
            "100/100 [==============================] - 0s 1ms/step - loss: 0.0259\n",
            "Epoch 12/100\n",
            "100/100 [==============================] - 0s 1ms/step - loss: 0.0238\n",
            "Epoch 13/100\n",
            "100/100 [==============================] - 0s 1ms/step - loss: 0.0220\n",
            "Epoch 14/100\n",
            "100/100 [==============================] - 0s 1ms/step - loss: 0.0206\n",
            "Epoch 15/100\n",
            "100/100 [==============================] - 0s 1ms/step - loss: 0.0192\n",
            "Epoch 16/100\n",
            "100/100 [==============================] - 0s 1ms/step - loss: 0.0184\n",
            "Epoch 17/100\n",
            "100/100 [==============================] - 0s 1ms/step - loss: 0.0173\n",
            "Epoch 18/100\n",
            "100/100 [==============================] - 0s 1ms/step - loss: 0.0164\n",
            "Epoch 19/100\n",
            "100/100 [==============================] - 0s 1ms/step - loss: 0.0158\n",
            "Epoch 20/100\n",
            "100/100 [==============================] - 0s 1ms/step - loss: 0.0153\n",
            "Epoch 21/100\n",
            "100/100 [==============================] - 0s 1ms/step - loss: 0.0146\n",
            "Epoch 22/100\n",
            "100/100 [==============================] - 0s 1ms/step - loss: 0.0141\n",
            "Epoch 23/100\n",
            "100/100 [==============================] - 0s 1ms/step - loss: 0.0138\n",
            "Epoch 24/100\n",
            "100/100 [==============================] - 0s 1ms/step - loss: 0.0133\n",
            "Epoch 25/100\n",
            "100/100 [==============================] - 0s 1ms/step - loss: 0.0129\n",
            "Epoch 26/100\n",
            "100/100 [==============================] - 0s 1ms/step - loss: 0.0127\n",
            "Epoch 27/100\n",
            "100/100 [==============================] - 0s 1ms/step - loss: 0.0123\n",
            "Epoch 28/100\n",
            "100/100 [==============================] - 0s 1ms/step - loss: 0.0119\n",
            "Epoch 29/100\n",
            "100/100 [==============================] - 0s 1ms/step - loss: 0.0118\n",
            "Epoch 30/100\n",
            "100/100 [==============================] - 0s 2ms/step - loss: 0.0114\n",
            "Epoch 31/100\n",
            "100/100 [==============================] - 0s 1ms/step - loss: 0.0111\n",
            "Epoch 32/100\n",
            "100/100 [==============================] - 0s 1ms/step - loss: 0.0108\n",
            "Epoch 33/100\n",
            "100/100 [==============================] - 0s 1ms/step - loss: 0.0106\n",
            "Epoch 34/100\n",
            "100/100 [==============================] - 0s 1ms/step - loss: 0.0105\n",
            "Epoch 35/100\n",
            "100/100 [==============================] - 0s 1ms/step - loss: 0.0103\n",
            "Epoch 36/100\n",
            "100/100 [==============================] - 0s 1ms/step - loss: 0.0101\n",
            "Epoch 37/100\n",
            "100/100 [==============================] - 0s 1ms/step - loss: 0.0099\n",
            "Epoch 38/100\n",
            "100/100 [==============================] - 0s 961us/step - loss: 0.0096\n",
            "Epoch 39/100\n",
            "100/100 [==============================] - 0s 977us/step - loss: 0.0096\n",
            "Epoch 40/100\n",
            "100/100 [==============================] - 0s 1ms/step - loss: 0.0094\n",
            "Epoch 41/100\n",
            "100/100 [==============================] - 0s 1ms/step - loss: 0.0092\n",
            "Epoch 42/100\n",
            "100/100 [==============================] - 0s 1ms/step - loss: 0.0091\n",
            "Epoch 43/100\n",
            "100/100 [==============================] - 0s 1ms/step - loss: 0.0090\n",
            "Epoch 44/100\n",
            "100/100 [==============================] - 0s 1ms/step - loss: 0.0089\n",
            "Epoch 45/100\n",
            "100/100 [==============================] - 0s 1ms/step - loss: 0.0087\n",
            "Epoch 46/100\n",
            "100/100 [==============================] - 0s 1ms/step - loss: 0.0086\n",
            "Epoch 47/100\n",
            "100/100 [==============================] - 0s 1ms/step - loss: 0.0085\n",
            "Epoch 48/100\n",
            "100/100 [==============================] - 0s 1ms/step - loss: 0.0084\n",
            "Epoch 49/100\n",
            "100/100 [==============================] - 0s 960us/step - loss: 0.0082\n",
            "Epoch 50/100\n",
            "100/100 [==============================] - 0s 1ms/step - loss: 0.0082\n",
            "Epoch 51/100\n",
            "100/100 [==============================] - 0s 1ms/step - loss: 0.0080\n",
            "Epoch 52/100\n",
            "100/100 [==============================] - 0s 1ms/step - loss: 0.0079\n",
            "Epoch 53/100\n",
            "100/100 [==============================] - 0s 1ms/step - loss: 0.0079\n",
            "Epoch 54/100\n",
            "100/100 [==============================] - 0s 978us/step - loss: 0.0078\n",
            "Epoch 55/100\n",
            "100/100 [==============================] - 0s 991us/step - loss: 0.0076\n",
            "Epoch 56/100\n",
            "100/100 [==============================] - 0s 952us/step - loss: 0.0075\n",
            "Epoch 57/100\n",
            "100/100 [==============================] - 0s 1ms/step - loss: 0.0075\n",
            "Epoch 58/100\n",
            "100/100 [==============================] - 0s 1ms/step - loss: 0.0074\n",
            "Epoch 59/100\n",
            "100/100 [==============================] - 0s 968us/step - loss: 0.0073\n",
            "Epoch 60/100\n",
            "100/100 [==============================] - 0s 1ms/step - loss: 0.0072\n",
            "Epoch 61/100\n",
            "100/100 [==============================] - 0s 1ms/step - loss: 0.0070\n",
            "Epoch 62/100\n",
            "100/100 [==============================] - 0s 1ms/step - loss: 0.0070\n",
            "Epoch 63/100\n",
            "100/100 [==============================] - 0s 1ms/step - loss: 0.0069\n",
            "Epoch 64/100\n",
            "100/100 [==============================] - 0s 1ms/step - loss: 0.0068\n",
            "Epoch 65/100\n",
            "100/100 [==============================] - 0s 994us/step - loss: 0.0067\n",
            "Epoch 66/100\n",
            "100/100 [==============================] - 0s 970us/step - loss: 0.0067\n",
            "Epoch 67/100\n",
            "100/100 [==============================] - 0s 982us/step - loss: 0.0066\n",
            "Epoch 68/100\n",
            "100/100 [==============================] - 0s 945us/step - loss: 0.0065\n",
            "Epoch 69/100\n",
            "100/100 [==============================] - 0s 1ms/step - loss: 0.0065\n",
            "Epoch 70/100\n",
            "100/100 [==============================] - 0s 1ms/step - loss: 0.0063\n",
            "Epoch 71/100\n",
            "100/100 [==============================] - 0s 1ms/step - loss: 0.0064\n",
            "Epoch 72/100\n",
            "100/100 [==============================] - 0s 1ms/step - loss: 0.0063\n",
            "Epoch 73/100\n",
            "100/100 [==============================] - 0s 1ms/step - loss: 0.0062\n",
            "Epoch 74/100\n",
            "100/100 [==============================] - 0s 1ms/step - loss: 0.0061\n",
            "Epoch 75/100\n",
            "100/100 [==============================] - 0s 1ms/step - loss: 0.0060\n",
            "Epoch 76/100\n",
            "100/100 [==============================] - 0s 1ms/step - loss: 0.0060\n",
            "Epoch 77/100\n",
            "100/100 [==============================] - 0s 980us/step - loss: 0.0059\n",
            "Epoch 78/100\n",
            "100/100 [==============================] - 0s 1ms/step - loss: 0.0059\n",
            "Epoch 79/100\n",
            "100/100 [==============================] - 0s 978us/step - loss: 0.0058\n",
            "Epoch 80/100\n",
            "100/100 [==============================] - 0s 1ms/step - loss: 0.0057\n",
            "Epoch 81/100\n",
            "100/100 [==============================] - 0s 1ms/step - loss: 0.0057\n",
            "Epoch 82/100\n",
            "100/100 [==============================] - 0s 1ms/step - loss: 0.0056\n",
            "Epoch 83/100\n",
            "100/100 [==============================] - 0s 1ms/step - loss: 0.0055\n",
            "Epoch 84/100\n",
            "100/100 [==============================] - 0s 1ms/step - loss: 0.0055\n",
            "Epoch 85/100\n",
            "100/100 [==============================] - 0s 1ms/step - loss: 0.0054\n",
            "Epoch 86/100\n",
            "100/100 [==============================] - 0s 1ms/step - loss: 0.0054\n",
            "Epoch 87/100\n",
            "100/100 [==============================] - 0s 1ms/step - loss: 0.0053\n",
            "Epoch 88/100\n",
            "100/100 [==============================] - 0s 1ms/step - loss: 0.0053\n",
            "Epoch 89/100\n",
            "100/100 [==============================] - 0s 1ms/step - loss: 0.0052\n",
            "Epoch 90/100\n",
            "100/100 [==============================] - 0s 1ms/step - loss: 0.0052\n",
            "Epoch 91/100\n",
            "100/100 [==============================] - 0s 1ms/step - loss: 0.0051\n",
            "Epoch 92/100\n",
            "100/100 [==============================] - 0s 1ms/step - loss: 0.0051\n",
            "Epoch 93/100\n",
            "100/100 [==============================] - 0s 1ms/step - loss: 0.0050\n",
            "Epoch 94/100\n",
            "100/100 [==============================] - 0s 1ms/step - loss: 0.0050\n",
            "Epoch 95/100\n",
            "100/100 [==============================] - 0s 1ms/step - loss: 0.0049\n",
            "Epoch 96/100\n",
            "100/100 [==============================] - 0s 936us/step - loss: 0.0049\n",
            "Epoch 97/100\n",
            "100/100 [==============================] - 0s 979us/step - loss: 0.0049\n",
            "Epoch 98/100\n",
            "100/100 [==============================] - 0s 967us/step - loss: 0.0048\n",
            "Epoch 99/100\n",
            "100/100 [==============================] - 0s 952us/step - loss: 0.0048\n",
            "Epoch 100/100\n",
            "100/100 [==============================] - 0s 965us/step - loss: 0.0048\n"
          ],
          "name": "stdout"
        },
        {
          "output_type": "execute_result",
          "data": {
            "text/plain": [
              "<tensorflow.python.keras.callbacks.History at 0x7fa2c69c2668>"
            ]
          },
          "metadata": {
            "tags": []
          },
          "execution_count": 11
        }
      ]
    },
    {
      "cell_type": "markdown",
      "metadata": {
        "id": "YdFNNFfMf_34",
        "colab_type": "text"
      },
      "source": [
        "## Scatterplot\n",
        "Here is a scatterplot of the data. The green line is the true line used to generate the data. The yellow line is the separating line of the trained model. This line is found by converting `w1 * x1 + w2 * x2 + b = 0` to `x_2 = -(w1 * x1 + b) / w2`."
      ]
    },
    {
      "cell_type": "code",
      "metadata": {
        "id": "njMFLDQIkgaV",
        "colab_type": "code",
        "outputId": "de4e37b6-7fdc-4ec9-bd00-00507f64b738",
        "colab": {
          "base_uri": "https://localhost:8080/",
          "height": 296
        }
      },
      "source": [
        "display_random_data(data, labels)\n",
        "x_1 = data[:,0]\n",
        "\n",
        "# Line used to generate data.\n",
        "plt.plot(x_1, w * x_1 + b, color='g', linewidth=5)\n",
        "weights, bias = model.layers[0].get_weights()\n",
        "\n",
        "# Separating line of trained model.\n",
        "x_2 = -1*((weights[0]*x_1)+bias)/weights[1]\n",
        "plt.plot(x_1, x_2, color='y', linewidth=5)"
      ],
      "execution_count": 102,
      "outputs": [
        {
          "output_type": "execute_result",
          "data": {
            "text/plain": [
              "[<matplotlib.lines.Line2D at 0x7fa2bcad1978>]"
            ]
          },
          "metadata": {
            "tags": []
          },
          "execution_count": 102
        },
        {
          "output_type": "display_data",
          "data": {
            "image/png": "[encoded data removed]",
            "text/plain": [
              "<Figure size 432x288 with 1 Axes>"
            ]
          },
          "metadata": {
            "tags": []
          }
        }
      ]
    },
    {
      "cell_type": "markdown",
      "metadata": {
        "id": "yXrDD8hifRM3",
        "colab_type": "text"
      },
      "source": [
        "##Heatmap"
      ]
    },
    {
      "cell_type": "code",
      "metadata": {
        "id": "-l4KHNtvfLir",
        "colab_type": "code",
        "colab": {
          "base_uri": "https://localhost:8080/",
          "height": 299
        },
        "outputId": "3bb1140e-3a85-478b-8e51-5dc961e8dd65"
      },
      "source": [
        "def heatmap(w, b, data):\n",
        "\n",
        "  y, x = np.meshgrid(np.linspace(df['x_2'].min(), df['x_2'].max()), np.linspace(df['x_1'].min(), df['x_1'].max()))\n",
        "  print(y.shape, x.shape)\n",
        "  z = b+y*w[1]+x*w[0]\n",
        "  z = z[:-1, :-1]\n",
        "  maxz, minz = np.abs(z).max(), -1*np.abs(z).max()\n",
        "\n",
        "  hm, axis = plt.subplots()\n",
        "  c = axis.pcolormesh(x, y, z, vmin=minz, vmax=maxz, cmap='PiYG')\n",
        "  axis.axis([x.min(), x.max(), y.min(), y.max()])\n",
        "  hm.colorbar(c, ax=axis)\n",
        "\n",
        "d = data.transpose()\n",
        "d1 = d[0][:]\n",
        "d4 = d1.transpose() \n",
        "x1 = pd.DataFrame(d4)\n",
        "\n",
        "d2 = d[1][:]\n",
        "d3 = d2.transpose() \n",
        "x2 = pd.DataFrame(d3)\n",
        "\n",
        "l = labels.transpose()\n",
        "l1 = l[0][:]\n",
        "c = pd.DataFrame(l1.transpose())\n",
        "\n",
        "df = pd.concat([x1, x2, c], axis=1, ignore_index=True)\n",
        "df.columns = ['x_1','x_2','c']\n",
        "\n",
        "print(weights.shape, bias.shape, data.shape)\n",
        "heatmap(weights, bias, data)"
      ],
      "execution_count": 103,
      "outputs": [
        {
          "output_type": "stream",
          "text": [
            "(2, 1) (1,) (1000, 2)\n",
            "(50, 50) (50, 50)\n"
          ],
          "name": "stdout"
        },
        {
          "output_type": "display_data",
          "data": {
            "image/png": "[encoded data removed]",
            "text/plain": [
              "<Figure size 432x288 with 2 Axes>"
            ]
          },
          "metadata": {
            "tags": []
          }
        }
      ]
    },
    {
      "cell_type": "markdown",
      "metadata": {
        "id": "yTG57lADg0k1",
        "colab_type": "text"
      },
      "source": [
        "# Problem 3\n",
        "\n",
        "Use numpy to implement a logistic regression model from scratch and train it with the data generated as in Problem 1.\n",
        "\n"
      ]
    },
    {
      "cell_type": "code",
      "metadata": {
        "id": "pzFAgojIg0qi",
        "colab_type": "code",
        "colab": {}
      },
      "source": [
        "def loss(weights, x_1, x_2):\n",
        "  z = np.dot(x_1,weights)\n",
        "  sigmoid = 1/(1+np.exp(-z))\n",
        "  cur_loss = (-1*x_2*np.log(sigmoid)) - ((1-x_2)*np.log(1-sigmoid))\n",
        "  total_loss = 1/len(x_2)*sum(cur_loss)\n",
        "  gradient = 1/len(x_2)*np.dot(x_1.transpose(), (-1*x_2 + sigmoid))\n",
        "  return total_loss[0], gradient\n",
        "\n",
        "def sgd(x_1,x_2,w,lr,iterations):    \n",
        "  for i in range(iterations):\n",
        "      cost, grad = loss(w,x_1,x_2)\n",
        "      w = w-(lr*grad)\n",
        "  return theta\n",
        "\n",
        "X = df.iloc[:, :-1].values\n",
        "y = df.iloc[:, -1].values\n",
        "\n",
        "X = np.append(np.ones((X.shape[0],1)), X, axis=1)\n",
        "initial_theta = np.zeros((X.shape[1], 1))\n",
        "theta = sgd(X,y,initial_theta,1,1000)\n",
        "bias, weights = theta[0], theta[1:]\n"
      ],
      "execution_count": 0,
      "outputs": []
    },
    {
      "cell_type": "markdown",
      "metadata": {
        "id": "u9IBEQq9zyeo",
        "colab_type": "text"
      },
      "source": [
        "## Generate Graph\n",
        "\n",
        "Here is a scatterplot of the data. The green line is the true line used to generate the data. The yellow line is the separating line of the trained model."
      ]
    },
    {
      "cell_type": "code",
      "metadata": {
        "id": "bdm0a5m8z25z",
        "colab_type": "code",
        "colab": {
          "base_uri": "https://localhost:8080/",
          "height": 296
        },
        "outputId": "2f4b95ee-8c6e-4c88-d550-265f444f070e"
      },
      "source": [
        "display_random_data(data, labels)\n",
        "x_1 = data[:,0]\n",
        "x_2 = 1*((weights[0]*x_1)+bias)/weights[1]\n",
        "\n",
        "plt.plot(x_1, x_2, color='y', linewidth=5)\n",
        "\n",
        "# Line used to generate data.\n",
        "plt.plot(x_1, w * x_1 + b, color='g', linewidth=5)"
      ],
      "execution_count": 139,
      "outputs": [
        {
          "output_type": "execute_result",
          "data": {
            "text/plain": [
              "[<matplotlib.lines.Line2D at 0x7fa2b82c0da0>]"
            ]
          },
          "metadata": {
            "tags": []
          },
          "execution_count": 139
        },
        {
          "output_type": "display_data",
          "data": {
            "image/png": "[encoded data removed]",
            "text/plain": [
              "<Figure size 432x288 with 1 Axes>"
            ]
          },
          "metadata": {
            "tags": []
          }
        }
      ]
    },
    {
      "cell_type": "markdown",
      "metadata": {
        "id": "TB4G-QRAGuPB",
        "colab_type": "text"
      },
      "source": [
        "# Sources\n",
        "\n",
        "https://keras.io/getting-started/sequential-model-guide/\n",
        "https://algorithmia.com/blog/introduction-to-optimizers\n",
        "\n",
        "https://keras.io/models/about-keras-models/\n",
        "https://towardsdatascience.com/building-a-logistic-regression-in-python-301d27367c24\n",
        "\n",
        "https://towardsdatascience.com/andrew-ngs-machine-learning-course-in-python-logistic-regression-c0ae25509feb"
      ]
    }
  ]
}
