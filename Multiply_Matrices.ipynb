{
  "nbformat": 4,
  "nbformat_minor": 0,
  "metadata": {
    "colab": {
      "name": "Multiply Matrices",
      "provenance": [],
      "authorship_tag": "ABX9TyM/lnxnV41/FQx1FuSp1ABP",
      "include_colab_link": true
    },
    "kernelspec": {
      "name": "python3",
      "display_name": "Python 3"
    }
  },
  "cells": [
    {
      "cell_type": "markdown",
      "metadata": {
        "id": "view-in-github",
        "colab_type": "text"
      },
      "source": [
        "<a href=\"https://colab.research.google.com/github/pauline-johnson/machine-learning/blob/master/Multiply_Matrices.ipynb\" target=\"_parent\"><img src=\"https://colab.research.google.com/assets/colab-badge.svg\" alt=\"Open In Colab\"/></a>"
      ]
    },
    {
      "cell_type": "markdown",
      "metadata": {
        "id": "MEAEBsm9eI9q",
        "colab_type": "text"
      },
      "source": [
        "# First Notebook"
      ]
    },
    {
      "cell_type": "code",
      "metadata": {
        "id": "aeANXQu5dti0",
        "colab_type": "code",
        "colab": {}
      },
      "source": [
        "print(\"hello world\")"
      ],
      "execution_count": 0,
      "outputs": []
    }
  ]
}