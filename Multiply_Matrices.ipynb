{
  "nbformat": 4,
  "nbformat_minor": 0,
  "metadata": {
    "colab": {
      "name": "Multiply Matrices",
      "provenance": [],
      "authorship_tag": "ABX9TyNrQNm+1+1ypvs1pBthUj4h",
      "include_colab_link": true
    },
    "kernelspec": {
      "name": "python3",
      "display_name": "Python 3"
    }
  },
  "cells": [
    {
      "cell_type": "markdown",
      "metadata": {
        "id": "view-in-github",
        "colab_type": "text"
      },
      "source": [
        "<a href=\"https://colab.research.google.com/github/pauline-johnson/machine-learning/blob/master/Multiply_Matrices.ipynb\" target=\"_parent\"><img src=\"https://colab.research.google.com/assets/colab-badge.svg\" alt=\"Open In Colab\"/></a>"
      ]
    },
    {
      "cell_type": "markdown",
      "metadata": {
        "id": "MEAEBsm9eI9q",
        "colab_type": "text"
      },
      "source": [
        "# Multiply Matrices\n",
        "### This program multiplies two matrices and throws a custom exception if the matrices cannot be multiplied."
      ]
    },
    {
      "cell_type": "code",
      "metadata": {
        "id": "aeANXQu5dti0",
        "colab_type": "code",
        "colab": {
          "base_uri": "https://localhost:8080/",
          "height": 85
        },
        "outputId": "07b822ab-3b83-429b-ebb1-99a6dbcf6872"
      },
      "source": [
        "class Impossible(Exception):\n",
        "  \"\"\"Number of rows in matrix A do not match number of columns in matrix B\"\"\"\n",
        "  pass\n",
        "\n",
        "import numpy as np \n",
        "\n",
        "def multiplyMatrices(A,B):\n",
        "  try:\n",
        "    num_rows_A = np.shape(A)[0]\n",
        "    num_cols_B = np.shape(B)[1]\n",
        "\n",
        "    if(num_rows_A != num_cols_B):\n",
        "      raise Impossible\n",
        "    else:\n",
        "      print(np.dot(A, B))\n",
        "  except Impossible:\n",
        "    print(\"Number of rows in matrix A do not match number of columns in matrix B\")\n",
        "\n",
        "a = ([1, 1, 1],[1 ,1, 1],[2, 2, 2]) \n",
        "b = ([2, 2, 2],[1, 1, 1],[1, 1, 1]) \n",
        "c = ([1, 1],[2, 2]) \n",
        "\n",
        "multiplyMatrices(a, b)\n",
        "multiplyMatrices(a, c)\n",
        "\n",
        "\n"
      ],
      "execution_count": 34,
      "outputs": [
        {
          "output_type": "stream",
          "text": [
            "[[4 4 4]\n",
            " [4 4 4]\n",
            " [8 8 8]]\n",
            "Number of rows in matrix A do not match number of columns in matrix B\n"
          ],
          "name": "stdout"
        }
      ]
    },
    {
      "cell_type": "code",
      "metadata": {
        "id": "eh5ZlxZ7lc-a",
        "colab_type": "code",
        "colab": {}
      },
      "source": [
        ""
      ],
      "execution_count": 0,
      "outputs": []
    }
  ]
}